{
 "cells": [
  {
   "cell_type": "markdown",
   "id": "46c9b994",
   "metadata": {},
   "source": [
    "# построение диаграммы Герцшпрунг-Рассела с использованием предугаданных значений\n",
    "------\n",
    "выполнила : ученица 8'А' класса МАОУ Лицея №176 Чумасова Полина Юрьевна (aponiaauy@gmail.com)\n",
    "    \n",
    "научный руководитель : Бондарчук Глеб Сергеевич (djgleban1147@mail.ru)"
   ]
  },
  {
   "cell_type": "markdown",
   "id": "b1ad3b71",
   "metadata": {},
   "source": [
    "для астрономов диаграмма Герцшпрунг-Рассела несет в себе много полезной информаци - цвет, спектральный класс, температура, размер, освещенность звезды, и даже возраст. Я решила создать программу для построения диаграммы, но используя предугаданные значения, чтобы решить возможную проблему нехватки расчетных данных, заодно экспериментальным путем найти лучшую ML-модель для нахождения данных "
   ]
  },
  {
   "cell_type": "code",
   "execution_count": 143,
   "id": "c9bebdd6",
   "metadata": {},
   "outputs": [],
   "source": [
    "import pandas as pd\n",
    "import numpy as np\n",
    "import matplotlib.pyplot as plt\n",
    "import math\n",
    "import seaborn as sns\n",
    "\n",
    "from sklearn.neighbors import KNeighborsRegressor\n",
    "from sklearn.model_selection import train_test_split\n",
    "from sklearn.ensemble import RandomForestRegressor\n",
    "from sklearn.compose import TransformedTargetRegressor\n",
    "from sklearn.metrics import mean_absolute_percentage_error\n",
    "from sklearn.pipeline import Pipeline\n",
    "from sklearn.datasets import make_friedman1\n",
    "from sklearn.ensemble import GradientBoostingRegressor\n",
    "from sklearn.datasets import make_regression\n",
    "from sklearn import tree\n",
    "from sklearn.metrics import mean_squared_error\n",
    "from sklearn.neighbors import KDTree\n",
    "from catboost import CatBoostRegressor\n",
    "import tqdm\n",
    "\n",
    "import warnings\n",
    "warnings.filterwarnings(\"ignore\")\n",
    "\n",
    "stefconst = 5.67 * 10**-8\n",
    "pi = 3.14\n",
    "Rro = 2.26*10**-8\n",
    "\n",
    "df = pd.read_csv(r\"6 class csv.csv\")\n",
    "df2 = pd.read_csv(r\"paralaxo.csv\")\n",
    "df.drop([\"Star color\", \"Spectral Class\"], axis=1, inplace=True)\n",
    "df2.drop(['SpType'],axis = 1, inplace=True)\n",
    "\n",
    "df = df[df['Absolute magnitude(Mv)'] > 0]"
   ]
  },
  {
   "cell_type": "code",
   "execution_count": 144,
   "id": "1ea0aa3c",
   "metadata": {},
   "outputs": [],
   "source": [
    "tree = KDTree(df[\"Absolute magnitude(Mv)\"].values.reshape((-1, 1)), leaf_size=3)\n",
    "dist, ind = tree.query(df2[\"Amag\"].values.reshape((-1, 1)), k=3)\n",
    "mean_features = [df.iloc[idxes].mean(axis=0) for idxes in ind]\n",
    "mean_features\n",
    "df = pd.DataFrame(mean_features)\n",
    "df.drop(['Star type'], axis = 1,inplace = True)\n",
    "dfm  = pd.concat([df2,df],axis = 1)"
   ]
  },
  {
   "cell_type": "code",
   "execution_count": 145,
   "id": "06d7a16d",
   "metadata": {},
   "outputs": [
    {
     "data": {
      "text/html": [
       "<div>\n",
       "<style scoped>\n",
       "    .dataframe tbody tr th:only-of-type {\n",
       "        vertical-align: middle;\n",
       "    }\n",
       "\n",
       "    .dataframe tbody tr th {\n",
       "        vertical-align: top;\n",
       "    }\n",
       "\n",
       "    .dataframe thead th {\n",
       "        text-align: right;\n",
       "    }\n",
       "</style>\n",
       "<table border=\"1\" class=\"dataframe\">\n",
       "  <thead>\n",
       "    <tr style=\"text-align: right;\">\n",
       "      <th></th>\n",
       "      <th>Vmag</th>\n",
       "      <th>Plx</th>\n",
       "      <th>e_Plx</th>\n",
       "      <th>B-V</th>\n",
       "      <th>Amag</th>\n",
       "      <th>TargetClass</th>\n",
       "      <th>Temperature (K)</th>\n",
       "      <th>Luminosity(L/Lo)</th>\n",
       "      <th>Radius(R/Ro)</th>\n",
       "      <th>Absolute magnitude(Mv)</th>\n",
       "      <th>dist1</th>\n",
       "      <th>dist2</th>\n",
       "    </tr>\n",
       "  </thead>\n",
       "  <tbody>\n",
       "    <tr>\n",
       "      <th>0</th>\n",
       "      <td>6.901420</td>\n",
       "      <td>24.569658</td>\n",
       "      <td>0.862829</td>\n",
       "      <td>0.737416</td>\n",
       "      <td>20.449126</td>\n",
       "      <td>1</td>\n",
       "      <td>2896.000000</td>\n",
       "      <td>0.000536</td>\n",
       "      <td>0.103533</td>\n",
       "      <td>20.006667</td>\n",
       "      <td>4.411305e-10</td>\n",
       "      <td>0.403578</td>\n",
       "    </tr>\n",
       "    <tr>\n",
       "      <th>1</th>\n",
       "      <td>4.334196</td>\n",
       "      <td>2.198947</td>\n",
       "      <td>0.593309</td>\n",
       "      <td>1.153210</td>\n",
       "      <td>13.043324</td>\n",
       "      <td>0</td>\n",
       "      <td>6683.000000</td>\n",
       "      <td>0.004227</td>\n",
       "      <td>0.196307</td>\n",
       "      <td>13.053333</td>\n",
       "      <td>4.095273e-09</td>\n",
       "      <td>37.830661</td>\n",
       "    </tr>\n",
       "    <tr>\n",
       "      <th>2</th>\n",
       "      <td>7.873019</td>\n",
       "      <td>11.750465</td>\n",
       "      <td>0.616568</td>\n",
       "      <td>0.589166</td>\n",
       "      <td>17.736492</td>\n",
       "      <td>1</td>\n",
       "      <td>3012.333333</td>\n",
       "      <td>0.000465</td>\n",
       "      <td>0.118333</td>\n",
       "      <td>17.486667</td>\n",
       "      <td>2.406655e-09</td>\n",
       "      <td>2.722765</td>\n",
       "    </tr>\n",
       "    <tr>\n",
       "      <th>3</th>\n",
       "      <td>8.110014</td>\n",
       "      <td>2.143815</td>\n",
       "      <td>0.848508</td>\n",
       "      <td>1.322107</td>\n",
       "      <td>15.592469</td>\n",
       "      <td>0</td>\n",
       "      <td>2917.000000</td>\n",
       "      <td>0.000940</td>\n",
       "      <td>0.131333</td>\n",
       "      <td>16.086667</td>\n",
       "      <td>7.204725e-09</td>\n",
       "      <td>8.482978</td>\n",
       "    </tr>\n",
       "    <tr>\n",
       "      <th>4</th>\n",
       "      <td>8.025193</td>\n",
       "      <td>4.165622</td>\n",
       "      <td>0.899296</td>\n",
       "      <td>1.141646</td>\n",
       "      <td>16.379680</td>\n",
       "      <td>0</td>\n",
       "      <td>3227.000000</td>\n",
       "      <td>0.002512</td>\n",
       "      <td>0.092367</td>\n",
       "      <td>16.343333</td>\n",
       "      <td>4.821819e-09</td>\n",
       "      <td>4.886605</td>\n",
       "    </tr>\n",
       "    <tr>\n",
       "      <th>...</th>\n",
       "      <td>...</td>\n",
       "      <td>...</td>\n",
       "      <td>...</td>\n",
       "      <td>...</td>\n",
       "      <td>...</td>\n",
       "      <td>...</td>\n",
       "      <td>...</td>\n",
       "      <td>...</td>\n",
       "      <td>...</td>\n",
       "      <td>...</td>\n",
       "      <td>...</td>\n",
       "      <td>...</td>\n",
       "    </tr>\n",
       "    <tr>\n",
       "      <th>31636</th>\n",
       "      <td>7.561113</td>\n",
       "      <td>0.692340</td>\n",
       "      <td>0.843319</td>\n",
       "      <td>0.252874</td>\n",
       "      <td>12.542120</td>\n",
       "      <td>0</td>\n",
       "      <td>10837.666667</td>\n",
       "      <td>0.002177</td>\n",
       "      <td>0.115000</td>\n",
       "      <td>12.490000</td>\n",
       "      <td>2.279854e-08</td>\n",
       "      <td>324.458854</td>\n",
       "    </tr>\n",
       "    <tr>\n",
       "      <th>31637</th>\n",
       "      <td>8.078011</td>\n",
       "      <td>3.002784</td>\n",
       "      <td>0.689891</td>\n",
       "      <td>0.971966</td>\n",
       "      <td>15.379710</td>\n",
       "      <td>0</td>\n",
       "      <td>6714.333333</td>\n",
       "      <td>0.000557</td>\n",
       "      <td>0.117857</td>\n",
       "      <td>14.873333</td>\n",
       "      <td>7.830125e-09</td>\n",
       "      <td>43.834061</td>\n",
       "    </tr>\n",
       "    <tr>\n",
       "      <th>31638</th>\n",
       "      <td>7.065964</td>\n",
       "      <td>7.820498</td>\n",
       "      <td>0.885794</td>\n",
       "      <td>0.435381</td>\n",
       "      <td>16.737442</td>\n",
       "      <td>1</td>\n",
       "      <td>3048.333333</td>\n",
       "      <td>0.000314</td>\n",
       "      <td>0.116567</td>\n",
       "      <td>16.676667</td>\n",
       "      <td>2.629136e-09</td>\n",
       "      <td>3.000512</td>\n",
       "    </tr>\n",
       "    <tr>\n",
       "      <th>31639</th>\n",
       "      <td>8.685452</td>\n",
       "      <td>2.643033</td>\n",
       "      <td>1.064647</td>\n",
       "      <td>0.988600</td>\n",
       "      <td>14.859882</td>\n",
       "      <td>0</td>\n",
       "      <td>6482.000000</td>\n",
       "      <td>0.000740</td>\n",
       "      <td>0.059190</td>\n",
       "      <td>14.823333</td>\n",
       "      <td>1.315899e-08</td>\n",
       "      <td>34.480375</td>\n",
       "    </tr>\n",
       "    <tr>\n",
       "      <th>31640</th>\n",
       "      <td>8.612488</td>\n",
       "      <td>19.959947</td>\n",
       "      <td>0.771636</td>\n",
       "      <td>0.611390</td>\n",
       "      <td>20.814352</td>\n",
       "      <td>1</td>\n",
       "      <td>2896.000000</td>\n",
       "      <td>0.000536</td>\n",
       "      <td>0.103533</td>\n",
       "      <td>20.006667</td>\n",
       "      <td>8.198523e-10</td>\n",
       "      <td>0.750060</td>\n",
       "    </tr>\n",
       "  </tbody>\n",
       "</table>\n",
       "<p>31641 rows × 12 columns</p>\n",
       "</div>"
      ],
      "text/plain": [
       "           Vmag        Plx     e_Plx       B-V       Amag  TargetClass  \\\n",
       "0      6.901420  24.569658  0.862829  0.737416  20.449126            1   \n",
       "1      4.334196   2.198947  0.593309  1.153210  13.043324            0   \n",
       "2      7.873019  11.750465  0.616568  0.589166  17.736492            1   \n",
       "3      8.110014   2.143815  0.848508  1.322107  15.592469            0   \n",
       "4      8.025193   4.165622  0.899296  1.141646  16.379680            0   \n",
       "...         ...        ...       ...       ...        ...          ...   \n",
       "31636  7.561113   0.692340  0.843319  0.252874  12.542120            0   \n",
       "31637  8.078011   3.002784  0.689891  0.971966  15.379710            0   \n",
       "31638  7.065964   7.820498  0.885794  0.435381  16.737442            1   \n",
       "31639  8.685452   2.643033  1.064647  0.988600  14.859882            0   \n",
       "31640  8.612488  19.959947  0.771636  0.611390  20.814352            1   \n",
       "\n",
       "       Temperature (K)  Luminosity(L/Lo)  Radius(R/Ro)  \\\n",
       "0          2896.000000          0.000536      0.103533   \n",
       "1          6683.000000          0.004227      0.196307   \n",
       "2          3012.333333          0.000465      0.118333   \n",
       "3          2917.000000          0.000940      0.131333   \n",
       "4          3227.000000          0.002512      0.092367   \n",
       "...                ...               ...           ...   \n",
       "31636     10837.666667          0.002177      0.115000   \n",
       "31637      6714.333333          0.000557      0.117857   \n",
       "31638      3048.333333          0.000314      0.116567   \n",
       "31639      6482.000000          0.000740      0.059190   \n",
       "31640      2896.000000          0.000536      0.103533   \n",
       "\n",
       "       Absolute magnitude(Mv)         dist1       dist2  \n",
       "0                   20.006667  4.411305e-10    0.403578  \n",
       "1                   13.053333  4.095273e-09   37.830661  \n",
       "2                   17.486667  2.406655e-09    2.722765  \n",
       "3                   16.086667  7.204725e-09    8.482978  \n",
       "4                   16.343333  4.821819e-09    4.886605  \n",
       "...                       ...           ...         ...  \n",
       "31636               12.490000  2.279854e-08  324.458854  \n",
       "31637               14.873333  7.830125e-09   43.834061  \n",
       "31638               16.676667  2.629136e-09    3.000512  \n",
       "31639               14.823333  1.315899e-08   34.480375  \n",
       "31640               20.006667  8.198523e-10    0.750060  \n",
       "\n",
       "[31641 rows x 12 columns]"
      ]
     },
     "execution_count": 145,
     "metadata": {},
     "output_type": "execute_result"
    }
   ],
   "source": [
    "m = np.array(dfm['Vmag'])\n",
    "M = np.array(dfm['Amag'])\n",
    "r = np.array(dfm['Radius(R/Ro)'])\n",
    "t =  np.array(dfm['Temperature (K)'])\n",
    "\n",
    "distance1 = 10 * 10**((m - M)/5)\n",
    "distance1\n",
    "\n",
    "F = 10**(-0.4*(m-M))\n",
    "distance2 = ((r**2 * stefconst * t**4)/F)**0.5\n",
    "distance1 = Rro * distance1\n",
    "dfm[\"dist1\"] = distance1\n",
    "dfm[\"dist2\"] = distance2\n",
    "dfm"
   ]
  },
  {
   "cell_type": "code",
   "execution_count": 146,
   "id": "63d14423",
   "metadata": {},
   "outputs": [
    {
     "data": {
      "text/html": [
       "<style type=\"text/css\">\n",
       "#T_6adbd_row0_col0, #T_6adbd_row1_col1, #T_6adbd_row2_col2, #T_6adbd_row3_col3, #T_6adbd_row4_col4, #T_6adbd_row5_col5, #T_6adbd_row6_col6, #T_6adbd_row7_col7, #T_6adbd_row8_col8, #T_6adbd_row9_col9, #T_6adbd_row10_col10, #T_6adbd_row11_col11 {\n",
       "  background-color: #b40426;\n",
       "  color: #f1f1f1;\n",
       "}\n",
       "#T_6adbd_row0_col1, #T_6adbd_row2_col6 {\n",
       "  background-color: #6687ed;\n",
       "  color: #f1f1f1;\n",
       "}\n",
       "#T_6adbd_row0_col2, #T_6adbd_row5_col3 {\n",
       "  background-color: #e9d5cb;\n",
       "  color: #000000;\n",
       "}\n",
       "#T_6adbd_row0_col3, #T_6adbd_row2_col5, #T_6adbd_row10_col2 {\n",
       "  background-color: #455cce;\n",
       "  color: #f1f1f1;\n",
       "}\n",
       "#T_6adbd_row0_col4, #T_6adbd_row6_col5 {\n",
       "  background-color: #85a8fc;\n",
       "  color: #f1f1f1;\n",
       "}\n",
       "#T_6adbd_row0_col5, #T_6adbd_row1_col3, #T_6adbd_row3_col6, #T_6adbd_row4_col3 {\n",
       "  background-color: #4e68d8;\n",
       "  color: #f1f1f1;\n",
       "}\n",
       "#T_6adbd_row0_col6 {\n",
       "  background-color: #7699f6;\n",
       "  color: #f1f1f1;\n",
       "}\n",
       "#T_6adbd_row0_col7, #T_6adbd_row3_col11 {\n",
       "  background-color: #3f53c6;\n",
       "  color: #f1f1f1;\n",
       "}\n",
       "#T_6adbd_row0_col8, #T_6adbd_row11_col1 {\n",
       "  background-color: #5977e3;\n",
       "  color: #f1f1f1;\n",
       "}\n",
       "#T_6adbd_row0_col9, #T_6adbd_row1_col8, #T_6adbd_row7_col4 {\n",
       "  background-color: #80a3fa;\n",
       "  color: #f1f1f1;\n",
       "}\n",
       "#T_6adbd_row0_col10, #T_6adbd_row2_col8, #T_6adbd_row9_col3 {\n",
       "  background-color: #536edd;\n",
       "  color: #f1f1f1;\n",
       "}\n",
       "#T_6adbd_row0_col11, #T_6adbd_row3_col8 {\n",
       "  background-color: #4358cb;\n",
       "  color: #f1f1f1;\n",
       "}\n",
       "#T_6adbd_row1_col0 {\n",
       "  background-color: #7093f3;\n",
       "  color: #f1f1f1;\n",
       "}\n",
       "#T_6adbd_row1_col2, #T_6adbd_row2_col3, #T_6adbd_row7_col6 {\n",
       "  background-color: #485fd1;\n",
       "  color: #f1f1f1;\n",
       "}\n",
       "#T_6adbd_row1_col4 {\n",
       "  background-color: #f2c9b4;\n",
       "  color: #000000;\n",
       "}\n",
       "#T_6adbd_row1_col5 {\n",
       "  background-color: #9fbfff;\n",
       "  color: #000000;\n",
       "}\n",
       "#T_6adbd_row1_col6 {\n",
       "  background-color: #aec9fc;\n",
       "  color: #000000;\n",
       "}\n",
       "#T_6adbd_row1_col7, #T_6adbd_row8_col2 {\n",
       "  background-color: #516ddb;\n",
       "  color: #f1f1f1;\n",
       "}\n",
       "#T_6adbd_row1_col9 {\n",
       "  background-color: #ecd3c5;\n",
       "  color: #000000;\n",
       "}\n",
       "#T_6adbd_row1_col10 {\n",
       "  background-color: #84a7fc;\n",
       "  color: #f1f1f1;\n",
       "}\n",
       "#T_6adbd_row1_col11 {\n",
       "  background-color: #6788ee;\n",
       "  color: #f1f1f1;\n",
       "}\n",
       "#T_6adbd_row2_col0 {\n",
       "  background-color: #e8d6cc;\n",
       "  color: #000000;\n",
       "}\n",
       "#T_6adbd_row2_col1, #T_6adbd_row2_col10, #T_6adbd_row2_col11, #T_6adbd_row3_col4, #T_6adbd_row3_col7, #T_6adbd_row3_col9, #T_6adbd_row3_col10, #T_6adbd_row6_col8, #T_6adbd_row7_col0, #T_6adbd_row7_col2, #T_6adbd_row7_col3, #T_6adbd_row7_col5, #T_6adbd_row8_col6, #T_6adbd_row11_col2 {\n",
       "  background-color: #3b4cc0;\n",
       "  color: #f1f1f1;\n",
       "}\n",
       "#T_6adbd_row2_col4 {\n",
       "  background-color: #7b9ff9;\n",
       "  color: #f1f1f1;\n",
       "}\n",
       "#T_6adbd_row2_col7 {\n",
       "  background-color: #3d50c3;\n",
       "  color: #f1f1f1;\n",
       "}\n",
       "#T_6adbd_row2_col9, #T_6adbd_row5_col8, #T_6adbd_row6_col0, #T_6adbd_row8_col1 {\n",
       "  background-color: #7295f4;\n",
       "  color: #f1f1f1;\n",
       "}\n",
       "#T_6adbd_row3_col0, #T_6adbd_row11_col0 {\n",
       "  background-color: #4055c8;\n",
       "  color: #f1f1f1;\n",
       "}\n",
       "#T_6adbd_row3_col1 {\n",
       "  background-color: #3e51c5;\n",
       "  color: #f1f1f1;\n",
       "}\n",
       "#T_6adbd_row3_col2, #T_6adbd_row8_col3 {\n",
       "  background-color: #445acc;\n",
       "  color: #f1f1f1;\n",
       "}\n",
       "#T_6adbd_row3_col5 {\n",
       "  background-color: #e2dad5;\n",
       "  color: #000000;\n",
       "}\n",
       "#T_6adbd_row4_col0 {\n",
       "  background-color: #93b5fe;\n",
       "  color: #000000;\n",
       "}\n",
       "#T_6adbd_row4_col1 {\n",
       "  background-color: #f3c8b2;\n",
       "  color: #000000;\n",
       "}\n",
       "#T_6adbd_row4_col2 {\n",
       "  background-color: #8caffe;\n",
       "  color: #000000;\n",
       "}\n",
       "#T_6adbd_row4_col5, #T_6adbd_row4_col11 {\n",
       "  background-color: #c0d4f5;\n",
       "  color: #000000;\n",
       "}\n",
       "#T_6adbd_row4_col6 {\n",
       "  background-color: #f7ba9f;\n",
       "  color: #000000;\n",
       "}\n",
       "#T_6adbd_row4_col7, #T_6adbd_row9_col0 {\n",
       "  background-color: #92b4fe;\n",
       "  color: #000000;\n",
       "}\n",
       "#T_6adbd_row4_col8 {\n",
       "  background-color: #c7d7f0;\n",
       "  color: #000000;\n",
       "}\n",
       "#T_6adbd_row4_col9, #T_6adbd_row9_col4 {\n",
       "  background-color: #ba162b;\n",
       "  color: #f1f1f1;\n",
       "}\n",
       "#T_6adbd_row4_col10 {\n",
       "  background-color: #dcdddd;\n",
       "  color: #000000;\n",
       "}\n",
       "#T_6adbd_row5_col0, #T_6adbd_row10_col0 {\n",
       "  background-color: #5a78e4;\n",
       "  color: #f1f1f1;\n",
       "}\n",
       "#T_6adbd_row5_col1 {\n",
       "  background-color: #a1c0ff;\n",
       "  color: #000000;\n",
       "}\n",
       "#T_6adbd_row5_col2 {\n",
       "  background-color: #5470de;\n",
       "  color: #f1f1f1;\n",
       "}\n",
       "#T_6adbd_row5_col4 {\n",
       "  background-color: #bfd3f6;\n",
       "  color: #000000;\n",
       "}\n",
       "#T_6adbd_row5_col6 {\n",
       "  background-color: #94b6ff;\n",
       "  color: #000000;\n",
       "}\n",
       "#T_6adbd_row5_col7 {\n",
       "  background-color: #4b64d5;\n",
       "  color: #f1f1f1;\n",
       "}\n",
       "#T_6adbd_row5_col9, #T_6adbd_row8_col4 {\n",
       "  background-color: #bcd2f7;\n",
       "  color: #000000;\n",
       "}\n",
       "#T_6adbd_row5_col10 {\n",
       "  background-color: #5b7ae5;\n",
       "  color: #f1f1f1;\n",
       "}\n",
       "#T_6adbd_row5_col11, #T_6adbd_row8_col0 {\n",
       "  background-color: #5572df;\n",
       "  color: #f1f1f1;\n",
       "}\n",
       "#T_6adbd_row6_col1 {\n",
       "  background-color: #a2c1ff;\n",
       "  color: #000000;\n",
       "}\n",
       "#T_6adbd_row6_col2 {\n",
       "  background-color: #6485ec;\n",
       "  color: #f1f1f1;\n",
       "}\n",
       "#T_6adbd_row6_col3 {\n",
       "  background-color: #4f69d9;\n",
       "  color: #f1f1f1;\n",
       "}\n",
       "#T_6adbd_row6_col4 {\n",
       "  background-color: #f5c0a7;\n",
       "  color: #000000;\n",
       "}\n",
       "#T_6adbd_row6_col7 {\n",
       "  background-color: #4961d2;\n",
       "  color: #f1f1f1;\n",
       "}\n",
       "#T_6adbd_row6_col9 {\n",
       "  background-color: #f7b89c;\n",
       "  color: #000000;\n",
       "}\n",
       "#T_6adbd_row6_col10, #T_6adbd_row6_col11, #T_6adbd_row9_col7 {\n",
       "  background-color: #9dbdff;\n",
       "  color: #000000;\n",
       "}\n",
       "#T_6adbd_row7_col1, #T_6adbd_row11_col3 {\n",
       "  background-color: #4257c9;\n",
       "  color: #f1f1f1;\n",
       "}\n",
       "#T_6adbd_row7_col8, #T_6adbd_row9_col11, #T_6adbd_row10_col8 {\n",
       "  background-color: #c3d5f4;\n",
       "  color: #000000;\n",
       "}\n",
       "#T_6adbd_row7_col9 {\n",
       "  background-color: #86a9fc;\n",
       "  color: #f1f1f1;\n",
       "}\n",
       "#T_6adbd_row7_col10 {\n",
       "  background-color: #f7b99e;\n",
       "  color: #000000;\n",
       "}\n",
       "#T_6adbd_row7_col11 {\n",
       "  background-color: #f3c7b1;\n",
       "  color: #000000;\n",
       "}\n",
       "#T_6adbd_row8_col5 {\n",
       "  background-color: #6282ea;\n",
       "  color: #f1f1f1;\n",
       "}\n",
       "#T_6adbd_row8_col7 {\n",
       "  background-color: #c4d5f3;\n",
       "  color: #000000;\n",
       "}\n",
       "#T_6adbd_row8_col9 {\n",
       "  background-color: #bed2f6;\n",
       "  color: #000000;\n",
       "}\n",
       "#T_6adbd_row8_col10 {\n",
       "  background-color: #bbd1f8;\n",
       "  color: #000000;\n",
       "}\n",
       "#T_6adbd_row8_col11 {\n",
       "  background-color: #a9c6fd;\n",
       "  color: #000000;\n",
       "}\n",
       "#T_6adbd_row9_col1 {\n",
       "  background-color: #efcfbf;\n",
       "  color: #000000;\n",
       "}\n",
       "#T_6adbd_row9_col2 {\n",
       "  background-color: #88abfd;\n",
       "  color: #000000;\n",
       "}\n",
       "#T_6adbd_row9_col5 {\n",
       "  background-color: #c1d4f4;\n",
       "  color: #000000;\n",
       "}\n",
       "#T_6adbd_row9_col6 {\n",
       "  background-color: #f7af91;\n",
       "  color: #000000;\n",
       "}\n",
       "#T_6adbd_row9_col8 {\n",
       "  background-color: #ccd9ed;\n",
       "  color: #000000;\n",
       "}\n",
       "#T_6adbd_row9_col10 {\n",
       "  background-color: #e0dbd8;\n",
       "  color: #000000;\n",
       "}\n",
       "#T_6adbd_row10_col1 {\n",
       "  background-color: #81a4fb;\n",
       "  color: #f1f1f1;\n",
       "}\n",
       "#T_6adbd_row10_col3, #T_6adbd_row11_col5 {\n",
       "  background-color: #465ecf;\n",
       "  color: #f1f1f1;\n",
       "}\n",
       "#T_6adbd_row10_col4 {\n",
       "  background-color: #d9dce1;\n",
       "  color: #000000;\n",
       "}\n",
       "#T_6adbd_row10_col5 {\n",
       "  background-color: #5673e0;\n",
       "  color: #f1f1f1;\n",
       "}\n",
       "#T_6adbd_row10_col6 {\n",
       "  background-color: #a6c4fe;\n",
       "  color: #000000;\n",
       "}\n",
       "#T_6adbd_row10_col7 {\n",
       "  background-color: #f7b497;\n",
       "  color: #000000;\n",
       "}\n",
       "#T_6adbd_row10_col9 {\n",
       "  background-color: #dbdcde;\n",
       "  color: #000000;\n",
       "}\n",
       "#T_6adbd_row10_col11 {\n",
       "  background-color: #d75445;\n",
       "  color: #f1f1f1;\n",
       "}\n",
       "#T_6adbd_row11_col4 {\n",
       "  background-color: #b5cdfa;\n",
       "  color: #000000;\n",
       "}\n",
       "#T_6adbd_row11_col6 {\n",
       "  background-color: #9ebeff;\n",
       "  color: #000000;\n",
       "}\n",
       "#T_6adbd_row11_col7 {\n",
       "  background-color: #f4c6af;\n",
       "  color: #000000;\n",
       "}\n",
       "#T_6adbd_row11_col8 {\n",
       "  background-color: #aac7fd;\n",
       "  color: #000000;\n",
       "}\n",
       "#T_6adbd_row11_col9 {\n",
       "  background-color: #b3cdfb;\n",
       "  color: #000000;\n",
       "}\n",
       "#T_6adbd_row11_col10 {\n",
       "  background-color: #d85646;\n",
       "  color: #f1f1f1;\n",
       "}\n",
       "</style>\n",
       "<table id=\"T_6adbd\">\n",
       "  <thead>\n",
       "    <tr>\n",
       "      <th class=\"blank level0\" >&nbsp;</th>\n",
       "      <th id=\"T_6adbd_level0_col0\" class=\"col_heading level0 col0\" >Vmag</th>\n",
       "      <th id=\"T_6adbd_level0_col1\" class=\"col_heading level0 col1\" >Plx</th>\n",
       "      <th id=\"T_6adbd_level0_col2\" class=\"col_heading level0 col2\" >e_Plx</th>\n",
       "      <th id=\"T_6adbd_level0_col3\" class=\"col_heading level0 col3\" >B-V</th>\n",
       "      <th id=\"T_6adbd_level0_col4\" class=\"col_heading level0 col4\" >Amag</th>\n",
       "      <th id=\"T_6adbd_level0_col5\" class=\"col_heading level0 col5\" >TargetClass</th>\n",
       "      <th id=\"T_6adbd_level0_col6\" class=\"col_heading level0 col6\" >Temperature (K)</th>\n",
       "      <th id=\"T_6adbd_level0_col7\" class=\"col_heading level0 col7\" >Luminosity(L/Lo)</th>\n",
       "      <th id=\"T_6adbd_level0_col8\" class=\"col_heading level0 col8\" >Radius(R/Ro)</th>\n",
       "      <th id=\"T_6adbd_level0_col9\" class=\"col_heading level0 col9\" >Absolute magnitude(Mv)</th>\n",
       "      <th id=\"T_6adbd_level0_col10\" class=\"col_heading level0 col10\" >dist1</th>\n",
       "      <th id=\"T_6adbd_level0_col11\" class=\"col_heading level0 col11\" >dist2</th>\n",
       "    </tr>\n",
       "  </thead>\n",
       "  <tbody>\n",
       "    <tr>\n",
       "      <th id=\"T_6adbd_level0_row0\" class=\"row_heading level0 row0\" >Vmag</th>\n",
       "      <td id=\"T_6adbd_row0_col0\" class=\"data row0 col0\" >1.000000</td>\n",
       "      <td id=\"T_6adbd_row0_col1\" class=\"data row0 col1\" >0.191414</td>\n",
       "      <td id=\"T_6adbd_row0_col2\" class=\"data row0 col2\" >0.557063</td>\n",
       "      <td id=\"T_6adbd_row0_col3\" class=\"data row0 col3\" >0.046950</td>\n",
       "      <td id=\"T_6adbd_row0_col4\" class=\"data row0 col4\" >0.287126</td>\n",
       "      <td id=\"T_6adbd_row0_col5\" class=\"data row0 col5\" >0.128945</td>\n",
       "      <td id=\"T_6adbd_row0_col6\" class=\"data row0 col6\" >0.196061</td>\n",
       "      <td id=\"T_6adbd_row0_col7\" class=\"data row0 col7\" >0.026745</td>\n",
       "      <td id=\"T_6adbd_row0_col8\" class=\"data row0 col8\" >0.112961</td>\n",
       "      <td id=\"T_6adbd_row0_col9\" class=\"data row0 col9\" >0.284049</td>\n",
       "      <td id=\"T_6adbd_row0_col10\" class=\"data row0 col10\" >0.128052</td>\n",
       "      <td id=\"T_6adbd_row0_col11\" class=\"data row0 col11\" >0.045755</td>\n",
       "    </tr>\n",
       "    <tr>\n",
       "      <th id=\"T_6adbd_level0_row1\" class=\"row_heading level0 row1\" >Plx</th>\n",
       "      <td id=\"T_6adbd_row1_col0\" class=\"data row1 col0\" >0.191414</td>\n",
       "      <td id=\"T_6adbd_row1_col1\" class=\"data row1 col1\" >1.000000</td>\n",
       "      <td id=\"T_6adbd_row1_col2\" class=\"data row1 col2\" >0.062239</td>\n",
       "      <td id=\"T_6adbd_row1_col3\" class=\"data row1 col3\" >0.074046</td>\n",
       "      <td id=\"T_6adbd_row1_col4\" class=\"data row1 col4\" >0.635550</td>\n",
       "      <td id=\"T_6adbd_row1_col5\" class=\"data row1 col5\" >0.348977</td>\n",
       "      <td id=\"T_6adbd_row1_col6\" class=\"data row1 col6\" >0.354138</td>\n",
       "      <td id=\"T_6adbd_row1_col7\" class=\"data row1 col7\" >0.085998</td>\n",
       "      <td id=\"T_6adbd_row1_col8\" class=\"data row1 col8\" >0.225950</td>\n",
       "      <td id=\"T_6adbd_row1_col9\" class=\"data row1 col9\" >0.604719</td>\n",
       "      <td id=\"T_6adbd_row1_col10\" class=\"data row1 col10\" >0.263955</td>\n",
       "      <td id=\"T_6adbd_row1_col11\" class=\"data row1 col11\" >0.156909</td>\n",
       "    </tr>\n",
       "    <tr>\n",
       "      <th id=\"T_6adbd_level0_row2\" class=\"row_heading level0 row2\" >e_Plx</th>\n",
       "      <td id=\"T_6adbd_row2_col0\" class=\"data row2 col0\" >0.557063</td>\n",
       "      <td id=\"T_6adbd_row2_col1\" class=\"data row2 col1\" >0.062239</td>\n",
       "      <td id=\"T_6adbd_row2_col2\" class=\"data row2 col2\" >1.000000</td>\n",
       "      <td id=\"T_6adbd_row2_col3\" class=\"data row2 col3\" >0.053166</td>\n",
       "      <td id=\"T_6adbd_row2_col4\" class=\"data row2 col4\" >0.260421</td>\n",
       "      <td id=\"T_6adbd_row2_col5\" class=\"data row2 col5\" >0.102710</td>\n",
       "      <td id=\"T_6adbd_row2_col6\" class=\"data row2 col6\" >0.150619</td>\n",
       "      <td id=\"T_6adbd_row2_col7\" class=\"data row2 col7\" >0.020523</td>\n",
       "      <td id=\"T_6adbd_row2_col8\" class=\"data row2 col8\" >0.091803</td>\n",
       "      <td id=\"T_6adbd_row2_col9\" class=\"data row2 col9\" >0.248797</td>\n",
       "      <td id=\"T_6adbd_row2_col10\" class=\"data row2 col10\" >0.055983</td>\n",
       "      <td id=\"T_6adbd_row2_col11\" class=\"data row2 col11\" >0.018725</td>\n",
       "    </tr>\n",
       "    <tr>\n",
       "      <th id=\"T_6adbd_level0_row3\" class=\"row_heading level0 row3\" >B-V</th>\n",
       "      <td id=\"T_6adbd_row3_col0\" class=\"data row3 col0\" >0.046950</td>\n",
       "      <td id=\"T_6adbd_row3_col1\" class=\"data row3 col1\" >0.074046</td>\n",
       "      <td id=\"T_6adbd_row3_col2\" class=\"data row3 col2\" >0.053166</td>\n",
       "      <td id=\"T_6adbd_row3_col3\" class=\"data row3 col3\" >1.000000</td>\n",
       "      <td id=\"T_6adbd_row3_col4\" class=\"data row3 col4\" >0.073903</td>\n",
       "      <td id=\"T_6adbd_row3_col5\" class=\"data row3 col5\" >0.554469</td>\n",
       "      <td id=\"T_6adbd_row3_col6\" class=\"data row3 col6\" >0.078831</td>\n",
       "      <td id=\"T_6adbd_row3_col7\" class=\"data row3 col7\" >0.010179</td>\n",
       "      <td id=\"T_6adbd_row3_col8\" class=\"data row3 col8\" >0.043722</td>\n",
       "      <td id=\"T_6adbd_row3_col9\" class=\"data row3 col9\" >0.089820</td>\n",
       "      <td id=\"T_6adbd_row3_col10\" class=\"data row3 col10\" >0.052674</td>\n",
       "      <td id=\"T_6adbd_row3_col11\" class=\"data row3 col11\" >0.036435</td>\n",
       "    </tr>\n",
       "    <tr>\n",
       "      <th id=\"T_6adbd_level0_row4\" class=\"row_heading level0 row4\" >Amag</th>\n",
       "      <td id=\"T_6adbd_row4_col0\" class=\"data row4 col0\" >0.287126</td>\n",
       "      <td id=\"T_6adbd_row4_col1\" class=\"data row4 col1\" >0.635550</td>\n",
       "      <td id=\"T_6adbd_row4_col2\" class=\"data row4 col2\" >0.260421</td>\n",
       "      <td id=\"T_6adbd_row4_col3\" class=\"data row4 col3\" >0.073903</td>\n",
       "      <td id=\"T_6adbd_row4_col4\" class=\"data row4 col4\" >1.000000</td>\n",
       "      <td id=\"T_6adbd_row4_col5\" class=\"data row4 col5\" >0.442479</td>\n",
       "      <td id=\"T_6adbd_row4_col6\" class=\"data row4 col6\" >0.664059</td>\n",
       "      <td id=\"T_6adbd_row4_col7\" class=\"data row4 col7\" >0.271669</td>\n",
       "      <td id=\"T_6adbd_row4_col8\" class=\"data row4 col8\" >0.433444</td>\n",
       "      <td id=\"T_6adbd_row4_col9\" class=\"data row4 col9\" >0.985104</td>\n",
       "      <td id=\"T_6adbd_row4_col10\" class=\"data row4 col10\" >0.523672</td>\n",
       "      <td id=\"T_6adbd_row4_col11\" class=\"data row4 col11\" >0.412249</td>\n",
       "    </tr>\n",
       "    <tr>\n",
       "      <th id=\"T_6adbd_level0_row5\" class=\"row_heading level0 row5\" >TargetClass</th>\n",
       "      <td id=\"T_6adbd_row5_col0\" class=\"data row5 col0\" >0.128945</td>\n",
       "      <td id=\"T_6adbd_row5_col1\" class=\"data row5 col1\" >0.348977</td>\n",
       "      <td id=\"T_6adbd_row5_col2\" class=\"data row5 col2\" >0.102710</td>\n",
       "      <td id=\"T_6adbd_row5_col3\" class=\"data row5 col3\" >0.554469</td>\n",
       "      <td id=\"T_6adbd_row5_col4\" class=\"data row5 col4\" >0.442479</td>\n",
       "      <td id=\"T_6adbd_row5_col5\" class=\"data row5 col5\" >1.000000</td>\n",
       "      <td id=\"T_6adbd_row5_col6\" class=\"data row5 col6\" >0.280207</td>\n",
       "      <td id=\"T_6adbd_row5_col7\" class=\"data row5 col7\" >0.067565</td>\n",
       "      <td id=\"T_6adbd_row5_col8\" class=\"data row5 col8\" >0.184470</td>\n",
       "      <td id=\"T_6adbd_row5_col9\" class=\"data row5 col9\" >0.444541</td>\n",
       "      <td id=\"T_6adbd_row5_col10\" class=\"data row5 col10\" >0.154972</td>\n",
       "      <td id=\"T_6adbd_row5_col11\" class=\"data row5 col11\" >0.106062</td>\n",
       "    </tr>\n",
       "    <tr>\n",
       "      <th id=\"T_6adbd_level0_row6\" class=\"row_heading level0 row6\" >Temperature (K)</th>\n",
       "      <td id=\"T_6adbd_row6_col0\" class=\"data row6 col0\" >0.196061</td>\n",
       "      <td id=\"T_6adbd_row6_col1\" class=\"data row6 col1\" >0.354138</td>\n",
       "      <td id=\"T_6adbd_row6_col2\" class=\"data row6 col2\" >0.150619</td>\n",
       "      <td id=\"T_6adbd_row6_col3\" class=\"data row6 col3\" >0.078831</td>\n",
       "      <td id=\"T_6adbd_row6_col4\" class=\"data row6 col4\" >0.664059</td>\n",
       "      <td id=\"T_6adbd_row6_col5\" class=\"data row6 col5\" >0.280207</td>\n",
       "      <td id=\"T_6adbd_row6_col6\" class=\"data row6 col6\" >1.000000</td>\n",
       "      <td id=\"T_6adbd_row6_col7\" class=\"data row6 col7\" >0.059151</td>\n",
       "      <td id=\"T_6adbd_row6_col8\" class=\"data row6 col8\" >0.014395</td>\n",
       "      <td id=\"T_6adbd_row6_col9\" class=\"data row6 col9\" >0.696837</td>\n",
       "      <td id=\"T_6adbd_row6_col10\" class=\"data row6 col10\" >0.330377</td>\n",
       "      <td id=\"T_6adbd_row6_col11\" class=\"data row6 col11\" >0.307071</td>\n",
       "    </tr>\n",
       "    <tr>\n",
       "      <th id=\"T_6adbd_level0_row7\" class=\"row_heading level0 row7\" >Luminosity(L/Lo)</th>\n",
       "      <td id=\"T_6adbd_row7_col0\" class=\"data row7 col0\" >0.026745</td>\n",
       "      <td id=\"T_6adbd_row7_col1\" class=\"data row7 col1\" >0.085998</td>\n",
       "      <td id=\"T_6adbd_row7_col2\" class=\"data row7 col2\" >0.020523</td>\n",
       "      <td id=\"T_6adbd_row7_col3\" class=\"data row7 col3\" >0.010179</td>\n",
       "      <td id=\"T_6adbd_row7_col4\" class=\"data row7 col4\" >0.271669</td>\n",
       "      <td id=\"T_6adbd_row7_col5\" class=\"data row7 col5\" >0.067565</td>\n",
       "      <td id=\"T_6adbd_row7_col6\" class=\"data row7 col6\" >0.059151</td>\n",
       "      <td id=\"T_6adbd_row7_col7\" class=\"data row7 col7\" >1.000000</td>\n",
       "      <td id=\"T_6adbd_row7_col8\" class=\"data row7 col8\" >0.418548</td>\n",
       "      <td id=\"T_6adbd_row7_col9\" class=\"data row7 col9\" >0.302322</td>\n",
       "      <td id=\"T_6adbd_row7_col10\" class=\"data row7 col10\" >0.679467</td>\n",
       "      <td id=\"T_6adbd_row7_col11\" class=\"data row7 col11\" >0.621961</td>\n",
       "    </tr>\n",
       "    <tr>\n",
       "      <th id=\"T_6adbd_level0_row8\" class=\"row_heading level0 row8\" >Radius(R/Ro)</th>\n",
       "      <td id=\"T_6adbd_row8_col0\" class=\"data row8 col0\" >0.112961</td>\n",
       "      <td id=\"T_6adbd_row8_col1\" class=\"data row8 col1\" >0.225950</td>\n",
       "      <td id=\"T_6adbd_row8_col2\" class=\"data row8 col2\" >0.091803</td>\n",
       "      <td id=\"T_6adbd_row8_col3\" class=\"data row8 col3\" >0.043722</td>\n",
       "      <td id=\"T_6adbd_row8_col4\" class=\"data row8 col4\" >0.433444</td>\n",
       "      <td id=\"T_6adbd_row8_col5\" class=\"data row8 col5\" >0.184470</td>\n",
       "      <td id=\"T_6adbd_row8_col6\" class=\"data row8 col6\" >0.014395</td>\n",
       "      <td id=\"T_6adbd_row8_col7\" class=\"data row8 col7\" >0.418548</td>\n",
       "      <td id=\"T_6adbd_row8_col8\" class=\"data row8 col8\" >1.000000</td>\n",
       "      <td id=\"T_6adbd_row8_col9\" class=\"data row8 col9\" >0.448377</td>\n",
       "      <td id=\"T_6adbd_row8_col10\" class=\"data row8 col10\" >0.415716</td>\n",
       "      <td id=\"T_6adbd_row8_col11\" class=\"data row8 col11\" >0.343176</td>\n",
       "    </tr>\n",
       "    <tr>\n",
       "      <th id=\"T_6adbd_level0_row9\" class=\"row_heading level0 row9\" >Absolute magnitude(Mv)</th>\n",
       "      <td id=\"T_6adbd_row9_col0\" class=\"data row9 col0\" >0.284049</td>\n",
       "      <td id=\"T_6adbd_row9_col1\" class=\"data row9 col1\" >0.604719</td>\n",
       "      <td id=\"T_6adbd_row9_col2\" class=\"data row9 col2\" >0.248797</td>\n",
       "      <td id=\"T_6adbd_row9_col3\" class=\"data row9 col3\" >0.089820</td>\n",
       "      <td id=\"T_6adbd_row9_col4\" class=\"data row9 col4\" >0.985104</td>\n",
       "      <td id=\"T_6adbd_row9_col5\" class=\"data row9 col5\" >0.444541</td>\n",
       "      <td id=\"T_6adbd_row9_col6\" class=\"data row9 col6\" >0.696837</td>\n",
       "      <td id=\"T_6adbd_row9_col7\" class=\"data row9 col7\" >0.302322</td>\n",
       "      <td id=\"T_6adbd_row9_col8\" class=\"data row9 col8\" >0.448377</td>\n",
       "      <td id=\"T_6adbd_row9_col9\" class=\"data row9 col9\" >1.000000</td>\n",
       "      <td id=\"T_6adbd_row9_col10\" class=\"data row9 col10\" >0.540248</td>\n",
       "      <td id=\"T_6adbd_row9_col11\" class=\"data row9 col11\" >0.419883</td>\n",
       "    </tr>\n",
       "    <tr>\n",
       "      <th id=\"T_6adbd_level0_row10\" class=\"row_heading level0 row10\" >dist1</th>\n",
       "      <td id=\"T_6adbd_row10_col0\" class=\"data row10 col0\" >0.128052</td>\n",
       "      <td id=\"T_6adbd_row10_col1\" class=\"data row10 col1\" >0.263955</td>\n",
       "      <td id=\"T_6adbd_row10_col2\" class=\"data row10 col2\" >0.055983</td>\n",
       "      <td id=\"T_6adbd_row10_col3\" class=\"data row10 col3\" >0.052674</td>\n",
       "      <td id=\"T_6adbd_row10_col4\" class=\"data row10 col4\" >0.523672</td>\n",
       "      <td id=\"T_6adbd_row10_col5\" class=\"data row10 col5\" >0.154972</td>\n",
       "      <td id=\"T_6adbd_row10_col6\" class=\"data row10 col6\" >0.330377</td>\n",
       "      <td id=\"T_6adbd_row10_col7\" class=\"data row10 col7\" >0.679467</td>\n",
       "      <td id=\"T_6adbd_row10_col8\" class=\"data row10 col8\" >0.415716</td>\n",
       "      <td id=\"T_6adbd_row10_col9\" class=\"data row10 col9\" >0.540248</td>\n",
       "      <td id=\"T_6adbd_row10_col10\" class=\"data row10 col10\" >1.000000</td>\n",
       "      <td id=\"T_6adbd_row10_col11\" class=\"data row10 col11\" >0.898189</td>\n",
       "    </tr>\n",
       "    <tr>\n",
       "      <th id=\"T_6adbd_level0_row11\" class=\"row_heading level0 row11\" >dist2</th>\n",
       "      <td id=\"T_6adbd_row11_col0\" class=\"data row11 col0\" >0.045755</td>\n",
       "      <td id=\"T_6adbd_row11_col1\" class=\"data row11 col1\" >0.156909</td>\n",
       "      <td id=\"T_6adbd_row11_col2\" class=\"data row11 col2\" >0.018725</td>\n",
       "      <td id=\"T_6adbd_row11_col3\" class=\"data row11 col3\" >0.036435</td>\n",
       "      <td id=\"T_6adbd_row11_col4\" class=\"data row11 col4\" >0.412249</td>\n",
       "      <td id=\"T_6adbd_row11_col5\" class=\"data row11 col5\" >0.106062</td>\n",
       "      <td id=\"T_6adbd_row11_col6\" class=\"data row11 col6\" >0.307071</td>\n",
       "      <td id=\"T_6adbd_row11_col7\" class=\"data row11 col7\" >0.621961</td>\n",
       "      <td id=\"T_6adbd_row11_col8\" class=\"data row11 col8\" >0.343176</td>\n",
       "      <td id=\"T_6adbd_row11_col9\" class=\"data row11 col9\" >0.419883</td>\n",
       "      <td id=\"T_6adbd_row11_col10\" class=\"data row11 col10\" >0.898189</td>\n",
       "      <td id=\"T_6adbd_row11_col11\" class=\"data row11 col11\" >1.000000</td>\n",
       "    </tr>\n",
       "  </tbody>\n",
       "</table>\n"
      ],
      "text/plain": [
       "<pandas.io.formats.style.Styler at 0x2b73e906740>"
      ]
     },
     "execution_count": 146,
     "metadata": {},
     "output_type": "execute_result"
    }
   ],
   "source": [
    "corr = abs(dfm.corr())\n",
    "corr.style.background_gradient(cmap='coolwarm')"
   ]
  },
  {
   "cell_type": "code",
   "execution_count": 147,
   "id": "35821e98",
   "metadata": {},
   "outputs": [],
   "source": [
    "dfm = dfm.drop(['Absolute magnitude(Mv)'], axis = 1)"
   ]
  },
  {
   "cell_type": "code",
   "execution_count": 148,
   "id": "94db0be4",
   "metadata": {},
   "outputs": [],
   "source": [
    "y_co = [\"Luminosity(L/Lo)\"]\n",
    "y_cols = [\"Temperature (K)\"]\n",
    "y_c = ['dist1']\n",
    "X_train, X_test, y_train, y_test = train_test_split(dfm.drop(y_co, axis=1), dfm[y_co], test_size=0.2, random_state=42)"
   ]
  },
  {
   "cell_type": "markdown",
   "id": "82920898",
   "metadata": {},
   "source": [
    "### 1.Градиентный бустинг\n",
    "как я и говорила ранее, я использовала логарифмический алгоритм, далее можно сравнить результаты без масштабирования и с ним"
   ]
  },
  {
   "cell_type": "code",
   "execution_count": 149,
   "id": "97ef4232",
   "metadata": {},
   "outputs": [
    {
     "name": "stdout",
     "output_type": "stream",
     "text": [
      "точность : 0.999\n"
     ]
    }
   ],
   "source": [
    "est = GradientBoostingRegressor(\n",
    "        n_estimators=100, learning_rate=1.3, max_depth=1, random_state=0,\n",
    "        loss='squared_error').fit(X_train, y_train)\n",
    "\n",
    "boostin_without_log =  [est.predict(X_test), est.score(X_test, y_test).round(3)]\n",
    "print(\"точность :\",boostin_without_log[1])"
   ]
  },
  {
   "cell_type": "code",
   "execution_count": 150,
   "id": "6d042987",
   "metadata": {},
   "outputs": [
    {
     "name": "stdout",
     "output_type": "stream",
     "text": [
      "точность : 0.989\n"
     ]
    }
   ],
   "source": [
    "esta = GradientBoostingRegressor()\n",
    "log_rf = TransformedTargetRegressor(esta, func = np.log, inverse_func=np.exp)\n",
    "log_rf.fit(X_train, y_train)\n",
    "boostin_with_log = [log_rf.predict(X_test), log_rf.score(X_test, y_test).round(4)]\n",
    "print(\"точность :\", boostin_with_log[1])"
   ]
  },
  {
   "cell_type": "markdown",
   "id": "76607812",
   "metadata": {},
   "source": [
    "### 2. K-ближайших соседей"
   ]
  },
  {
   "cell_type": "code",
   "execution_count": 151,
   "id": "f843fbd8",
   "metadata": {},
   "outputs": [
    {
     "name": "stdout",
     "output_type": "stream",
     "text": [
      "точность : 0.991\n"
     ]
    }
   ],
   "source": [
    "regressor = KNeighborsRegressor(n_neighbors=3)\n",
    "regressor = regressor.fit(X_train, y_train)\n",
    "\n",
    "nearest_without_log = [regressor.predict(X_test),regressor.score(X_test, y_test).round(3)]\n",
    "print(\"точность :\",nearest_without_log[1])\n",
    "####### ето"
   ]
  },
  {
   "cell_type": "code",
   "execution_count": 152,
   "id": "2c261c98",
   "metadata": {},
   "outputs": [
    {
     "name": "stdout",
     "output_type": "stream",
     "text": [
      "точность : 0.991\n"
     ]
    }
   ],
   "source": [
    "regressor = KNeighborsRegressor(n_neighbors=3)\n",
    "log = TransformedTargetRegressor(regressor, func = np.log, inverse_func=np.exp).fit(X_train, y_train)\n",
    "log = log.fit(X_train, y_train)\n",
    "\n",
    "nearest_with_log = [log.predict(X_test),log.score(X_test, y_test).round(3)]\n",
    "print(\"точность :\", nearest_with_log[1])"
   ]
  },
  {
   "cell_type": "markdown",
   "id": "a583d275",
   "metadata": {},
   "source": [
    "### 3. Дерево решений"
   ]
  },
  {
   "cell_type": "code",
   "execution_count": 153,
   "id": "623687a6",
   "metadata": {},
   "outputs": [
    {
     "name": "stdout",
     "output_type": "stream",
     "text": [
      "точность модели после : 1.0\n"
     ]
    }
   ],
   "source": [
    "from sklearn.tree import DecisionTreeRegressor\n",
    "\n",
    "clf = DecisionTreeRegressor()\n",
    "clf = clf.fit(X_train, y_train)\n",
    "\n",
    "decisionTree_without_log = [clf.predict(X_test), clf.score(X_test, y_test).round(3)]\n",
    "print(\"точность модели после :\", decisionTree_without_log[1])"
   ]
  },
  {
   "cell_type": "code",
   "execution_count": 154,
   "id": "f86b60f1",
   "metadata": {},
   "outputs": [
    {
     "name": "stdout",
     "output_type": "stream",
     "text": [
      "точность модели после : 1.0\n"
     ]
    }
   ],
   "source": [
    "clf = DecisionTreeRegressor()\n",
    "log = TransformedTargetRegressor(clf, func = np.log, inverse_func = np.exp).fit(X_train, y_train)\n",
    "log.predict(X_test)\n",
    "\n",
    "decisionTree_with_log = [log.predict(X_test), log.score(X_test,y_test).round(3)]\n",
    "print(\"точность модели после :\", decisionTree_with_log[1])\n",
    "#хочу ето"
   ]
  },
  {
   "cell_type": "code",
   "execution_count": 155,
   "id": "4518a2fb",
   "metadata": {},
   "outputs": [],
   "source": [
    "X_train, X_test, y_train, y_test = train_test_split(dfm.drop(y_cols, axis=1), dfm[y_cols], test_size=0.2)"
   ]
  },
  {
   "cell_type": "code",
   "execution_count": 156,
   "id": "d3e2e161",
   "metadata": {},
   "outputs": [
    {
     "name": "stdout",
     "output_type": "stream",
     "text": [
      "точность модели до : 0.982\n"
     ]
    }
   ],
   "source": [
    "est = GradientBoostingRegressor(\n",
    " n_estimators=100, learning_rate=1.3, max_depth=1, random_state=0,\n",
    " loss='squared_error').fit(X_train, y_train)\n",
    "\n",
    "pretemperature = est.predict(X_test)\n",
    "print(\"точность модели до :\",est.score(X_test, y_test).round(3))"
   ]
  },
  {
   "cell_type": "code",
   "execution_count": 157,
   "id": "30801d41",
   "metadata": {},
   "outputs": [
    {
     "data": {
      "text/html": [
       "<div>\n",
       "<style scoped>\n",
       "    .dataframe tbody tr th:only-of-type {\n",
       "        vertical-align: middle;\n",
       "    }\n",
       "\n",
       "    .dataframe tbody tr th {\n",
       "        vertical-align: top;\n",
       "    }\n",
       "\n",
       "    .dataframe thead th {\n",
       "        text-align: right;\n",
       "    }\n",
       "</style>\n",
       "<table border=\"1\" class=\"dataframe\">\n",
       "  <thead>\n",
       "    <tr style=\"text-align: right;\">\n",
       "      <th></th>\n",
       "      <th>Vmag</th>\n",
       "      <th>Plx</th>\n",
       "      <th>e_Plx</th>\n",
       "      <th>B-V</th>\n",
       "      <th>Amag</th>\n",
       "      <th>TargetClass</th>\n",
       "      <th>Temperature (K)</th>\n",
       "      <th>Luminosity(L/Lo)</th>\n",
       "      <th>Radius(R/Ro)</th>\n",
       "      <th>dist1</th>\n",
       "      <th>dist2</th>\n",
       "    </tr>\n",
       "  </thead>\n",
       "  <tbody>\n",
       "    <tr>\n",
       "      <th>0</th>\n",
       "      <td>6.901420</td>\n",
       "      <td>24.569658</td>\n",
       "      <td>0.862829</td>\n",
       "      <td>0.737416</td>\n",
       "      <td>20.449126</td>\n",
       "      <td>1</td>\n",
       "      <td>2896.000000</td>\n",
       "      <td>0.000536</td>\n",
       "      <td>0.103533</td>\n",
       "      <td>4.411305e-10</td>\n",
       "      <td>0.403578</td>\n",
       "    </tr>\n",
       "    <tr>\n",
       "      <th>1</th>\n",
       "      <td>4.334196</td>\n",
       "      <td>2.198947</td>\n",
       "      <td>0.593309</td>\n",
       "      <td>1.153210</td>\n",
       "      <td>13.043324</td>\n",
       "      <td>0</td>\n",
       "      <td>6683.000000</td>\n",
       "      <td>0.004227</td>\n",
       "      <td>0.196307</td>\n",
       "      <td>4.095273e-09</td>\n",
       "      <td>37.830661</td>\n",
       "    </tr>\n",
       "    <tr>\n",
       "      <th>2</th>\n",
       "      <td>7.873019</td>\n",
       "      <td>11.750465</td>\n",
       "      <td>0.616568</td>\n",
       "      <td>0.589166</td>\n",
       "      <td>17.736492</td>\n",
       "      <td>1</td>\n",
       "      <td>3012.333333</td>\n",
       "      <td>0.000465</td>\n",
       "      <td>0.118333</td>\n",
       "      <td>2.406655e-09</td>\n",
       "      <td>2.722765</td>\n",
       "    </tr>\n",
       "    <tr>\n",
       "      <th>3</th>\n",
       "      <td>8.110014</td>\n",
       "      <td>2.143815</td>\n",
       "      <td>0.848508</td>\n",
       "      <td>1.322107</td>\n",
       "      <td>15.592469</td>\n",
       "      <td>0</td>\n",
       "      <td>2917.000000</td>\n",
       "      <td>0.000940</td>\n",
       "      <td>0.131333</td>\n",
       "      <td>7.204725e-09</td>\n",
       "      <td>8.482978</td>\n",
       "    </tr>\n",
       "    <tr>\n",
       "      <th>4</th>\n",
       "      <td>8.025193</td>\n",
       "      <td>4.165622</td>\n",
       "      <td>0.899296</td>\n",
       "      <td>1.141646</td>\n",
       "      <td>16.379680</td>\n",
       "      <td>0</td>\n",
       "      <td>3227.000000</td>\n",
       "      <td>0.002512</td>\n",
       "      <td>0.092367</td>\n",
       "      <td>4.821819e-09</td>\n",
       "      <td>4.886605</td>\n",
       "    </tr>\n",
       "    <tr>\n",
       "      <th>...</th>\n",
       "      <td>...</td>\n",
       "      <td>...</td>\n",
       "      <td>...</td>\n",
       "      <td>...</td>\n",
       "      <td>...</td>\n",
       "      <td>...</td>\n",
       "      <td>...</td>\n",
       "      <td>...</td>\n",
       "      <td>...</td>\n",
       "      <td>...</td>\n",
       "      <td>...</td>\n",
       "    </tr>\n",
       "    <tr>\n",
       "      <th>31636</th>\n",
       "      <td>7.561113</td>\n",
       "      <td>0.692340</td>\n",
       "      <td>0.843319</td>\n",
       "      <td>0.252874</td>\n",
       "      <td>12.542120</td>\n",
       "      <td>0</td>\n",
       "      <td>10837.666667</td>\n",
       "      <td>0.002177</td>\n",
       "      <td>0.115000</td>\n",
       "      <td>2.279854e-08</td>\n",
       "      <td>324.458854</td>\n",
       "    </tr>\n",
       "    <tr>\n",
       "      <th>31637</th>\n",
       "      <td>8.078011</td>\n",
       "      <td>3.002784</td>\n",
       "      <td>0.689891</td>\n",
       "      <td>0.971966</td>\n",
       "      <td>15.379710</td>\n",
       "      <td>0</td>\n",
       "      <td>6714.333333</td>\n",
       "      <td>0.000557</td>\n",
       "      <td>0.117857</td>\n",
       "      <td>7.830125e-09</td>\n",
       "      <td>43.834061</td>\n",
       "    </tr>\n",
       "    <tr>\n",
       "      <th>31638</th>\n",
       "      <td>7.065964</td>\n",
       "      <td>7.820498</td>\n",
       "      <td>0.885794</td>\n",
       "      <td>0.435381</td>\n",
       "      <td>16.737442</td>\n",
       "      <td>1</td>\n",
       "      <td>3048.333333</td>\n",
       "      <td>0.000314</td>\n",
       "      <td>0.116567</td>\n",
       "      <td>2.629136e-09</td>\n",
       "      <td>3.000512</td>\n",
       "    </tr>\n",
       "    <tr>\n",
       "      <th>31639</th>\n",
       "      <td>8.685452</td>\n",
       "      <td>2.643033</td>\n",
       "      <td>1.064647</td>\n",
       "      <td>0.988600</td>\n",
       "      <td>14.859882</td>\n",
       "      <td>0</td>\n",
       "      <td>6482.000000</td>\n",
       "      <td>0.000740</td>\n",
       "      <td>0.059190</td>\n",
       "      <td>1.315899e-08</td>\n",
       "      <td>34.480375</td>\n",
       "    </tr>\n",
       "    <tr>\n",
       "      <th>31640</th>\n",
       "      <td>8.612488</td>\n",
       "      <td>19.959947</td>\n",
       "      <td>0.771636</td>\n",
       "      <td>0.611390</td>\n",
       "      <td>20.814352</td>\n",
       "      <td>1</td>\n",
       "      <td>2896.000000</td>\n",
       "      <td>0.000536</td>\n",
       "      <td>0.103533</td>\n",
       "      <td>8.198523e-10</td>\n",
       "      <td>0.750060</td>\n",
       "    </tr>\n",
       "  </tbody>\n",
       "</table>\n",
       "<p>31641 rows × 11 columns</p>\n",
       "</div>"
      ],
      "text/plain": [
       "           Vmag        Plx     e_Plx       B-V       Amag  TargetClass  \\\n",
       "0      6.901420  24.569658  0.862829  0.737416  20.449126            1   \n",
       "1      4.334196   2.198947  0.593309  1.153210  13.043324            0   \n",
       "2      7.873019  11.750465  0.616568  0.589166  17.736492            1   \n",
       "3      8.110014   2.143815  0.848508  1.322107  15.592469            0   \n",
       "4      8.025193   4.165622  0.899296  1.141646  16.379680            0   \n",
       "...         ...        ...       ...       ...        ...          ...   \n",
       "31636  7.561113   0.692340  0.843319  0.252874  12.542120            0   \n",
       "31637  8.078011   3.002784  0.689891  0.971966  15.379710            0   \n",
       "31638  7.065964   7.820498  0.885794  0.435381  16.737442            1   \n",
       "31639  8.685452   2.643033  1.064647  0.988600  14.859882            0   \n",
       "31640  8.612488  19.959947  0.771636  0.611390  20.814352            1   \n",
       "\n",
       "       Temperature (K)  Luminosity(L/Lo)  Radius(R/Ro)         dist1  \\\n",
       "0          2896.000000          0.000536      0.103533  4.411305e-10   \n",
       "1          6683.000000          0.004227      0.196307  4.095273e-09   \n",
       "2          3012.333333          0.000465      0.118333  2.406655e-09   \n",
       "3          2917.000000          0.000940      0.131333  7.204725e-09   \n",
       "4          3227.000000          0.002512      0.092367  4.821819e-09   \n",
       "...                ...               ...           ...           ...   \n",
       "31636     10837.666667          0.002177      0.115000  2.279854e-08   \n",
       "31637      6714.333333          0.000557      0.117857  7.830125e-09   \n",
       "31638      3048.333333          0.000314      0.116567  2.629136e-09   \n",
       "31639      6482.000000          0.000740      0.059190  1.315899e-08   \n",
       "31640      2896.000000          0.000536      0.103533  8.198523e-10   \n",
       "\n",
       "            dist2  \n",
       "0        0.403578  \n",
       "1       37.830661  \n",
       "2        2.722765  \n",
       "3        8.482978  \n",
       "4        4.886605  \n",
       "...           ...  \n",
       "31636  324.458854  \n",
       "31637   43.834061  \n",
       "31638    3.000512  \n",
       "31639   34.480375  \n",
       "31640    0.750060  \n",
       "\n",
       "[31641 rows x 11 columns]"
      ]
     },
     "execution_count": 157,
     "metadata": {},
     "output_type": "execute_result"
    }
   ],
   "source": [
    "dfm"
   ]
  },
  {
   "cell_type": "code",
   "execution_count": 158,
   "id": "a28b0f21",
   "metadata": {},
   "outputs": [],
   "source": [
    "X_train, X_test, y_train, y_test = train_test_split(dfm.drop(y_c, axis=1), dfm[y_c], test_size=0.2,random_state=42)"
   ]
  },
  {
   "cell_type": "code",
   "execution_count": 159,
   "id": "e2b556be",
   "metadata": {},
   "outputs": [
    {
     "name": "stdout",
     "output_type": "stream",
     "text": [
      "Learning rate set to 0.068219\n",
      "0:\tlearn: 0.0000000\ttotal: 5.01ms\tremaining: 5s\n",
      "100:\tlearn: 0.0000000\ttotal: 444ms\tremaining: 3.95s\n",
      "200:\tlearn: 0.0000000\ttotal: 867ms\tremaining: 3.45s\n",
      "300:\tlearn: 0.0000000\ttotal: 1.3s\tremaining: 3.02s\n",
      "400:\tlearn: 0.0000000\ttotal: 1.72s\tremaining: 2.56s\n",
      "500:\tlearn: 0.0000000\ttotal: 2.13s\tremaining: 2.12s\n",
      "600:\tlearn: 0.0000000\ttotal: 2.54s\tremaining: 1.69s\n",
      "700:\tlearn: 0.0000000\ttotal: 2.96s\tremaining: 1.26s\n",
      "800:\tlearn: 0.0000000\ttotal: 3.39s\tremaining: 841ms\n",
      "900:\tlearn: 0.0000000\ttotal: 3.81s\tremaining: 418ms\n",
      "999:\tlearn: 0.0000000\ttotal: 4.23s\tremaining: 0us\n"
     ]
    },
    {
     "data": {
      "text/plain": [
       "<catboost.core.CatBoostRegressor at 0x2b73e907250>"
      ]
     },
     "execution_count": 159,
     "metadata": {},
     "output_type": "execute_result"
    }
   ],
   "source": [
    "model = CatBoostRegressor(loss_function='RMSE')\n",
    "best_score = []\n",
    "sn = []\n",
    "model.fit(X_train, y_train,verbose = 100)"
   ]
  },
  {
   "cell_type": "code",
   "execution_count": 160,
   "id": "157f6234",
   "metadata": {},
   "outputs": [],
   "source": [
    "finallyDI = model.predict(X_test)\n",
    "gl = []\n",
    "forGraphph = []\n",
    "for j in range(len(finallyDI)):\n",
    "    if finallyDI[j] > 0:\n",
    "        gl.append(finallyDI[j])\n",
    "for k in range(len(gl)):\n",
    "    forGraphph.append(math.log(gl[k]))"
   ]
  },
  {
   "cell_type": "code",
   "execution_count": 161,
   "id": "209c9b07",
   "metadata": {},
   "outputs": [
    {
     "name": "stdout",
     "output_type": "stream",
     "text": [
      "0.96\n"
     ]
    }
   ],
   "source": [
    "print((model.score(X_test,y_test)).round(3))"
   ]
  },
  {
   "cell_type": "code",
   "execution_count": 162,
   "id": "c0833ced",
   "metadata": {},
   "outputs": [
    {
     "data": {
      "text/html": [
       "<div>\n",
       "<style scoped>\n",
       "    .dataframe tbody tr th:only-of-type {\n",
       "        vertical-align: middle;\n",
       "    }\n",
       "\n",
       "    .dataframe tbody tr th {\n",
       "        vertical-align: top;\n",
       "    }\n",
       "\n",
       "    .dataframe thead th {\n",
       "        text-align: right;\n",
       "    }\n",
       "</style>\n",
       "<table border=\"1\" class=\"dataframe\">\n",
       "  <thead>\n",
       "    <tr style=\"text-align: right;\">\n",
       "      <th></th>\n",
       "      <th>Vmag</th>\n",
       "      <th>Plx</th>\n",
       "      <th>e_Plx</th>\n",
       "      <th>B-V</th>\n",
       "      <th>Amag</th>\n",
       "      <th>TargetClass</th>\n",
       "      <th>Temperature (K)</th>\n",
       "      <th>Luminosity(L/Lo)</th>\n",
       "      <th>Radius(R/Ro)</th>\n",
       "      <th>dist1</th>\n",
       "      <th>dist2</th>\n",
       "    </tr>\n",
       "  </thead>\n",
       "  <tbody>\n",
       "    <tr>\n",
       "      <th>0</th>\n",
       "      <td>6.901420</td>\n",
       "      <td>24.569658</td>\n",
       "      <td>0.862829</td>\n",
       "      <td>0.737416</td>\n",
       "      <td>20.449126</td>\n",
       "      <td>1</td>\n",
       "      <td>2896.000000</td>\n",
       "      <td>0.000536</td>\n",
       "      <td>0.103533</td>\n",
       "      <td>4.411305e-10</td>\n",
       "      <td>0.403578</td>\n",
       "    </tr>\n",
       "    <tr>\n",
       "      <th>1</th>\n",
       "      <td>4.334196</td>\n",
       "      <td>2.198947</td>\n",
       "      <td>0.593309</td>\n",
       "      <td>1.153210</td>\n",
       "      <td>13.043324</td>\n",
       "      <td>0</td>\n",
       "      <td>6683.000000</td>\n",
       "      <td>0.004227</td>\n",
       "      <td>0.196307</td>\n",
       "      <td>4.095273e-09</td>\n",
       "      <td>37.830661</td>\n",
       "    </tr>\n",
       "    <tr>\n",
       "      <th>2</th>\n",
       "      <td>7.873019</td>\n",
       "      <td>11.750465</td>\n",
       "      <td>0.616568</td>\n",
       "      <td>0.589166</td>\n",
       "      <td>17.736492</td>\n",
       "      <td>1</td>\n",
       "      <td>3012.333333</td>\n",
       "      <td>0.000465</td>\n",
       "      <td>0.118333</td>\n",
       "      <td>2.406655e-09</td>\n",
       "      <td>2.722765</td>\n",
       "    </tr>\n",
       "    <tr>\n",
       "      <th>3</th>\n",
       "      <td>8.110014</td>\n",
       "      <td>2.143815</td>\n",
       "      <td>0.848508</td>\n",
       "      <td>1.322107</td>\n",
       "      <td>15.592469</td>\n",
       "      <td>0</td>\n",
       "      <td>2917.000000</td>\n",
       "      <td>0.000940</td>\n",
       "      <td>0.131333</td>\n",
       "      <td>7.204725e-09</td>\n",
       "      <td>8.482978</td>\n",
       "    </tr>\n",
       "    <tr>\n",
       "      <th>4</th>\n",
       "      <td>8.025193</td>\n",
       "      <td>4.165622</td>\n",
       "      <td>0.899296</td>\n",
       "      <td>1.141646</td>\n",
       "      <td>16.379680</td>\n",
       "      <td>0</td>\n",
       "      <td>3227.000000</td>\n",
       "      <td>0.002512</td>\n",
       "      <td>0.092367</td>\n",
       "      <td>4.821819e-09</td>\n",
       "      <td>4.886605</td>\n",
       "    </tr>\n",
       "    <tr>\n",
       "      <th>...</th>\n",
       "      <td>...</td>\n",
       "      <td>...</td>\n",
       "      <td>...</td>\n",
       "      <td>...</td>\n",
       "      <td>...</td>\n",
       "      <td>...</td>\n",
       "      <td>...</td>\n",
       "      <td>...</td>\n",
       "      <td>...</td>\n",
       "      <td>...</td>\n",
       "      <td>...</td>\n",
       "    </tr>\n",
       "    <tr>\n",
       "      <th>31636</th>\n",
       "      <td>7.561113</td>\n",
       "      <td>0.692340</td>\n",
       "      <td>0.843319</td>\n",
       "      <td>0.252874</td>\n",
       "      <td>12.542120</td>\n",
       "      <td>0</td>\n",
       "      <td>10837.666667</td>\n",
       "      <td>0.002177</td>\n",
       "      <td>0.115000</td>\n",
       "      <td>2.279854e-08</td>\n",
       "      <td>324.458854</td>\n",
       "    </tr>\n",
       "    <tr>\n",
       "      <th>31637</th>\n",
       "      <td>8.078011</td>\n",
       "      <td>3.002784</td>\n",
       "      <td>0.689891</td>\n",
       "      <td>0.971966</td>\n",
       "      <td>15.379710</td>\n",
       "      <td>0</td>\n",
       "      <td>6714.333333</td>\n",
       "      <td>0.000557</td>\n",
       "      <td>0.117857</td>\n",
       "      <td>7.830125e-09</td>\n",
       "      <td>43.834061</td>\n",
       "    </tr>\n",
       "    <tr>\n",
       "      <th>31638</th>\n",
       "      <td>7.065964</td>\n",
       "      <td>7.820498</td>\n",
       "      <td>0.885794</td>\n",
       "      <td>0.435381</td>\n",
       "      <td>16.737442</td>\n",
       "      <td>1</td>\n",
       "      <td>3048.333333</td>\n",
       "      <td>0.000314</td>\n",
       "      <td>0.116567</td>\n",
       "      <td>2.629136e-09</td>\n",
       "      <td>3.000512</td>\n",
       "    </tr>\n",
       "    <tr>\n",
       "      <th>31639</th>\n",
       "      <td>8.685452</td>\n",
       "      <td>2.643033</td>\n",
       "      <td>1.064647</td>\n",
       "      <td>0.988600</td>\n",
       "      <td>14.859882</td>\n",
       "      <td>0</td>\n",
       "      <td>6482.000000</td>\n",
       "      <td>0.000740</td>\n",
       "      <td>0.059190</td>\n",
       "      <td>1.315899e-08</td>\n",
       "      <td>34.480375</td>\n",
       "    </tr>\n",
       "    <tr>\n",
       "      <th>31640</th>\n",
       "      <td>8.612488</td>\n",
       "      <td>19.959947</td>\n",
       "      <td>0.771636</td>\n",
       "      <td>0.611390</td>\n",
       "      <td>20.814352</td>\n",
       "      <td>1</td>\n",
       "      <td>2896.000000</td>\n",
       "      <td>0.000536</td>\n",
       "      <td>0.103533</td>\n",
       "      <td>8.198523e-10</td>\n",
       "      <td>0.750060</td>\n",
       "    </tr>\n",
       "  </tbody>\n",
       "</table>\n",
       "<p>31641 rows × 11 columns</p>\n",
       "</div>"
      ],
      "text/plain": [
       "           Vmag        Plx     e_Plx       B-V       Amag  TargetClass  \\\n",
       "0      6.901420  24.569658  0.862829  0.737416  20.449126            1   \n",
       "1      4.334196   2.198947  0.593309  1.153210  13.043324            0   \n",
       "2      7.873019  11.750465  0.616568  0.589166  17.736492            1   \n",
       "3      8.110014   2.143815  0.848508  1.322107  15.592469            0   \n",
       "4      8.025193   4.165622  0.899296  1.141646  16.379680            0   \n",
       "...         ...        ...       ...       ...        ...          ...   \n",
       "31636  7.561113   0.692340  0.843319  0.252874  12.542120            0   \n",
       "31637  8.078011   3.002784  0.689891  0.971966  15.379710            0   \n",
       "31638  7.065964   7.820498  0.885794  0.435381  16.737442            1   \n",
       "31639  8.685452   2.643033  1.064647  0.988600  14.859882            0   \n",
       "31640  8.612488  19.959947  0.771636  0.611390  20.814352            1   \n",
       "\n",
       "       Temperature (K)  Luminosity(L/Lo)  Radius(R/Ro)         dist1  \\\n",
       "0          2896.000000          0.000536      0.103533  4.411305e-10   \n",
       "1          6683.000000          0.004227      0.196307  4.095273e-09   \n",
       "2          3012.333333          0.000465      0.118333  2.406655e-09   \n",
       "3          2917.000000          0.000940      0.131333  7.204725e-09   \n",
       "4          3227.000000          0.002512      0.092367  4.821819e-09   \n",
       "...                ...               ...           ...           ...   \n",
       "31636     10837.666667          0.002177      0.115000  2.279854e-08   \n",
       "31637      6714.333333          0.000557      0.117857  7.830125e-09   \n",
       "31638      3048.333333          0.000314      0.116567  2.629136e-09   \n",
       "31639      6482.000000          0.000740      0.059190  1.315899e-08   \n",
       "31640      2896.000000          0.000536      0.103533  8.198523e-10   \n",
       "\n",
       "            dist2  \n",
       "0        0.403578  \n",
       "1       37.830661  \n",
       "2        2.722765  \n",
       "3        8.482978  \n",
       "4        4.886605  \n",
       "...           ...  \n",
       "31636  324.458854  \n",
       "31637   43.834061  \n",
       "31638    3.000512  \n",
       "31639   34.480375  \n",
       "31640    0.750060  \n",
       "\n",
       "[31641 rows x 11 columns]"
      ]
     },
     "execution_count": 162,
     "metadata": {},
     "output_type": "execute_result"
    }
   ],
   "source": [
    "dfm"
   ]
  },
  {
   "cell_type": "code",
   "execution_count": 163,
   "id": "fb621552",
   "metadata": {},
   "outputs": [
    {
     "data": {
      "application/vnd.plotly.v1+json": {
       "config": {
        "plotlyServerURL": "https://plot.ly"
       },
       "data": [
        {
         "hovertemplate": "x=%{x}<br>y=%{y}<br>z=%{z}<extra></extra>",
         "legendgroup": "",
         "marker": {
          "color": "#636efa",
          "symbol": "circle"
         },
         "mode": "markers",
         "name": "",
         "scene": "scene",
         "showlegend": false,
         "type": "scatter3d",
         "x": [
          2896,
          6683,
          3012.3333333333335,
          2917,
          3227,
          4946.333333333333,
          2917,
          7356.666666666667,
          4946.333333333333,
          3168.3333333333335,
          3035.6666666666665,
          2819.6666666666665,
          3039.3333333333335,
          8649.333333333334,
          2917,
          2917,
          2953,
          6042.666666666667,
          3168.3333333333335,
          2739.3333333333335,
          2863.3333333333335,
          3227,
          2917,
          2863.3333333333335,
          2835,
          2819.6666666666665,
          2896,
          10138,
          3039.3333333333335,
          2917,
          3127.3333333333335,
          6714.333333333333,
          2819.6666666666665,
          2802,
          10102,
          2917,
          3231.6666666666665,
          2861.3333333333335,
          3059.3333333333335,
          10133.333333333334,
          6714.333333333333,
          2917,
          2917,
          3376.3333333333335,
          10102,
          3012.3333333333335,
          2819.6666666666665,
          2917,
          10418.333333333334,
          2863.3333333333335,
          10837.666666666666,
          2986.3333333333335,
          12228,
          2819.6666666666665,
          6580.333333333333,
          6270.666666666667,
          3059.6666666666665,
          3168.3333333333335,
          3085,
          2863.3333333333335,
          6580.333333333333,
          8078.333333333333,
          2990,
          6714.333333333333,
          2876.3333333333335,
          3376.3333333333335,
          2739.3333333333335,
          2917,
          2896,
          2864,
          2917,
          6683,
          13930.666666666666,
          3059.6666666666665,
          14101.333333333334,
          2816.3333333333335,
          10418.333333333334,
          3168.3333333333335,
          3168.3333333333335,
          2917,
          2802,
          3248.3333333333335,
          2896,
          3204,
          3376.3333333333335,
          4946.333333333333,
          3168.3333333333335,
          2917,
          3127.3333333333335,
          6857.666666666667,
          3039.3333333333335,
          3204,
          2917,
          2917,
          3127.3333333333335,
          5040,
          3012.3333333333335,
          2917,
          2990,
          3048.3333333333335
         ],
         "y": [
          0.000536,
          0.004226666666666667,
          0.0004653333333333333,
          0.0009399999999999999,
          0.0025123333333333334,
          0.0008366666666666667,
          0.0009399999999999999,
          0.0002866666666666667,
          0.0008366666666666667,
          0.002266666666666667,
          0.0005533333333333333,
          0.000417,
          0.000381,
          0.0012833333333333334,
          0.0009399999999999999,
          0.0009399999999999999,
          0.0008349999999999999,
          0.00064,
          0.002266666666666667,
          0.000517,
          0.00046266666666666673,
          0.0025123333333333334,
          0.00094,
          0.0004626666666666666,
          0.0008216666666666667,
          0.000417,
          0.000536,
          0.001385,
          0.000381,
          0.0009399999999999999,
          0.0008123333333333333,
          0.0005566666666666667,
          0.000417,
          0.00038666666666666667,
          0.007850000000000001,
          0.0009399999999999999,
          0.0022626666666666667,
          0.0005696666666666667,
          0.0005373333333333333,
          0.0016899999999999999,
          0.0005566666666666667,
          0.0009399999999999999,
          0.0009399999999999999,
          0.0006833333333333334,
          0.007850000000000001,
          0.0004653333333333333,
          0.000417,
          0.0009399999999999999,
          0.00244,
          0.00046266666666666673,
          0.0021766666666666666,
          0.0046,
          0.00053,
          0.000417,
          0.0006366666666666666,
          0.0008066666666666666,
          0.0005566666666666667,
          0.002266666666666667,
          0.0007133333333333333,
          0.00046266666666666673,
          0.0006366666666666666,
          0.0028,
          0.0004573333333333333,
          0.0005566666666666667,
          0.000514,
          0.0006833333333333334,
          0.000517,
          0.0009399999999999999,
          0.000536,
          0.000404,
          0.0009399999999999999,
          0.004226666666666667,
          0.00046000000000000007,
          0.0005566666666666667,
          0.0009866666666666667,
          0.00035699999999999995,
          0.00244,
          0.002266666666666667,
          0.002266666666666667,
          0.0009399999999999999,
          0.00038666666666666667,
          0.004063333333333333,
          0.000536,
          0.0008619999999999999,
          0.0006833333333333334,
          0.0008366666666666667,
          0.002266666666666667,
          0.0009399999999999999,
          0.0008123333333333333,
          0.0007633333333333333,
          0.000381,
          0.000862,
          0.0009399999999999999,
          0.0009399999999999999,
          0.0008123333333333333,
          0.0005700000000000001,
          0.0004653333333333333,
          0.0009399999999999999,
          0.0004573333333333333,
          0.00031366666666666663
         ],
         "z": [
          -21.787408560295557,
          -18.751610420766042,
          -17.62074092288208,
          -19.98039160629762,
          -19.133330213322886,
          -20.92451134774165,
          -21.810464714396836,
          -16.945326177978263,
          -19.575640488892827,
          -18.510566139598634,
          -20.848703481696745,
          -19.89414189611245,
          -19.689285614158464,
          -19.471171760845984,
          -20.32516830124386,
          -18.274471865346623,
          -14.651883494793385,
          -19.7484395783864,
          -17.077989378153525,
          -18.37626675913575,
          -20.639889025761466,
          -19.61955054765193,
          -17.96310490250902,
          -17.78977360245346,
          -18.544642565224024,
          -19.095154402554726,
          -18.120220161712812,
          -18.079938657539177,
          -20.06517477988104,
          -18.70351319417221,
          -18.137992985187246,
          -21.01305269298966,
          -18.344840010907426,
          -19.364440445460616,
          -18.41176283370855,
          -19.63259150253365,
          -19.979331393642898,
          -19.00358799734957,
          -16.61970519646538,
          -20.772766673124547,
          -18.911033200291396,
          -17.98427522939093,
          -20.567056651320794,
          -19.806288860258928,
          -19.67938498314651,
          -20.421481848365016,
          -19.971642049115907,
          -18.776114209063113,
          -18.947348896581396,
          -19.040354809695305,
          -20.560066993247325,
          -18.372604588305112,
          -19.04974306722417,
          -19.084398371360734,
          -17.471558891250496,
          -19.7178710933525,
          -17.498247374916648,
          -19.617239963674272,
          -19.612665407782025,
          -18.670892844735658,
          -17.428531490166428,
          -18.804366387930493,
          -21.088175681184303,
          -16.743476560092745,
          -18.50475214547129,
          -21.99490448291946,
          -17.47707277571364,
          -18.607739536033293,
          -18.14408280471596,
          -19.572966869001668,
          -18.577936521767448,
          -18.039939515613405,
          -18.871768346201996,
          -18.79656571542312,
          -19.29067055564246,
          -18.873781329554266,
          -19.649503581896354,
          -18.78317776819819,
          -18.297514745468806,
          -19.178718120291432,
          -20.66553559239755,
          -19.92657475522137,
          -20.7266717380106,
          -18.63530324811262,
          -18.97542490785865,
          -17.808894153506063,
          -17.857848911598886,
          -20.28362901881155,
          -19.06729651165714,
          -18.992454640125562,
          -19.744012680557947,
          -20.244550996671347,
          -19.61741331593559,
          -19.848155940592726,
          -19.719154848982683,
          -19.060746583764416,
          -19.917512757792416,
          -19.688111570855032,
          -20.299919935705685,
          -19.22790470227682
         ]
        }
       ],
       "layout": {
        "legend": {
         "tracegroupgap": 0
        },
        "margin": {
         "t": 60
        },
        "scene": {
         "domain": {
          "x": [
           0,
           1
          ],
          "y": [
           0,
           1
          ]
         },
         "xaxis": {
          "title": {
           "text": "x"
          }
         },
         "yaxis": {
          "title": {
           "text": "y"
          }
         },
         "zaxis": {
          "title": {
           "text": "z"
          }
         }
        },
        "template": {
         "data": {
          "bar": [
           {
            "error_x": {
             "color": "#2a3f5f"
            },
            "error_y": {
             "color": "#2a3f5f"
            },
            "marker": {
             "line": {
              "color": "#E5ECF6",
              "width": 0.5
             },
             "pattern": {
              "fillmode": "overlay",
              "size": 10,
              "solidity": 0.2
             }
            },
            "type": "bar"
           }
          ],
          "barpolar": [
           {
            "marker": {
             "line": {
              "color": "#E5ECF6",
              "width": 0.5
             },
             "pattern": {
              "fillmode": "overlay",
              "size": 10,
              "solidity": 0.2
             }
            },
            "type": "barpolar"
           }
          ],
          "carpet": [
           {
            "aaxis": {
             "endlinecolor": "#2a3f5f",
             "gridcolor": "white",
             "linecolor": "white",
             "minorgridcolor": "white",
             "startlinecolor": "#2a3f5f"
            },
            "baxis": {
             "endlinecolor": "#2a3f5f",
             "gridcolor": "white",
             "linecolor": "white",
             "minorgridcolor": "white",
             "startlinecolor": "#2a3f5f"
            },
            "type": "carpet"
           }
          ],
          "choropleth": [
           {
            "colorbar": {
             "outlinewidth": 0,
             "ticks": ""
            },
            "type": "choropleth"
           }
          ],
          "contour": [
           {
            "colorbar": {
             "outlinewidth": 0,
             "ticks": ""
            },
            "colorscale": [
             [
              0,
              "#0d0887"
             ],
             [
              0.1111111111111111,
              "#46039f"
             ],
             [
              0.2222222222222222,
              "#7201a8"
             ],
             [
              0.3333333333333333,
              "#9c179e"
             ],
             [
              0.4444444444444444,
              "#bd3786"
             ],
             [
              0.5555555555555556,
              "#d8576b"
             ],
             [
              0.6666666666666666,
              "#ed7953"
             ],
             [
              0.7777777777777778,
              "#fb9f3a"
             ],
             [
              0.8888888888888888,
              "#fdca26"
             ],
             [
              1,
              "#f0f921"
             ]
            ],
            "type": "contour"
           }
          ],
          "contourcarpet": [
           {
            "colorbar": {
             "outlinewidth": 0,
             "ticks": ""
            },
            "type": "contourcarpet"
           }
          ],
          "heatmap": [
           {
            "colorbar": {
             "outlinewidth": 0,
             "ticks": ""
            },
            "colorscale": [
             [
              0,
              "#0d0887"
             ],
             [
              0.1111111111111111,
              "#46039f"
             ],
             [
              0.2222222222222222,
              "#7201a8"
             ],
             [
              0.3333333333333333,
              "#9c179e"
             ],
             [
              0.4444444444444444,
              "#bd3786"
             ],
             [
              0.5555555555555556,
              "#d8576b"
             ],
             [
              0.6666666666666666,
              "#ed7953"
             ],
             [
              0.7777777777777778,
              "#fb9f3a"
             ],
             [
              0.8888888888888888,
              "#fdca26"
             ],
             [
              1,
              "#f0f921"
             ]
            ],
            "type": "heatmap"
           }
          ],
          "heatmapgl": [
           {
            "colorbar": {
             "outlinewidth": 0,
             "ticks": ""
            },
            "colorscale": [
             [
              0,
              "#0d0887"
             ],
             [
              0.1111111111111111,
              "#46039f"
             ],
             [
              0.2222222222222222,
              "#7201a8"
             ],
             [
              0.3333333333333333,
              "#9c179e"
             ],
             [
              0.4444444444444444,
              "#bd3786"
             ],
             [
              0.5555555555555556,
              "#d8576b"
             ],
             [
              0.6666666666666666,
              "#ed7953"
             ],
             [
              0.7777777777777778,
              "#fb9f3a"
             ],
             [
              0.8888888888888888,
              "#fdca26"
             ],
             [
              1,
              "#f0f921"
             ]
            ],
            "type": "heatmapgl"
           }
          ],
          "histogram": [
           {
            "marker": {
             "pattern": {
              "fillmode": "overlay",
              "size": 10,
              "solidity": 0.2
             }
            },
            "type": "histogram"
           }
          ],
          "histogram2d": [
           {
            "colorbar": {
             "outlinewidth": 0,
             "ticks": ""
            },
            "colorscale": [
             [
              0,
              "#0d0887"
             ],
             [
              0.1111111111111111,
              "#46039f"
             ],
             [
              0.2222222222222222,
              "#7201a8"
             ],
             [
              0.3333333333333333,
              "#9c179e"
             ],
             [
              0.4444444444444444,
              "#bd3786"
             ],
             [
              0.5555555555555556,
              "#d8576b"
             ],
             [
              0.6666666666666666,
              "#ed7953"
             ],
             [
              0.7777777777777778,
              "#fb9f3a"
             ],
             [
              0.8888888888888888,
              "#fdca26"
             ],
             [
              1,
              "#f0f921"
             ]
            ],
            "type": "histogram2d"
           }
          ],
          "histogram2dcontour": [
           {
            "colorbar": {
             "outlinewidth": 0,
             "ticks": ""
            },
            "colorscale": [
             [
              0,
              "#0d0887"
             ],
             [
              0.1111111111111111,
              "#46039f"
             ],
             [
              0.2222222222222222,
              "#7201a8"
             ],
             [
              0.3333333333333333,
              "#9c179e"
             ],
             [
              0.4444444444444444,
              "#bd3786"
             ],
             [
              0.5555555555555556,
              "#d8576b"
             ],
             [
              0.6666666666666666,
              "#ed7953"
             ],
             [
              0.7777777777777778,
              "#fb9f3a"
             ],
             [
              0.8888888888888888,
              "#fdca26"
             ],
             [
              1,
              "#f0f921"
             ]
            ],
            "type": "histogram2dcontour"
           }
          ],
          "mesh3d": [
           {
            "colorbar": {
             "outlinewidth": 0,
             "ticks": ""
            },
            "type": "mesh3d"
           }
          ],
          "parcoords": [
           {
            "line": {
             "colorbar": {
              "outlinewidth": 0,
              "ticks": ""
             }
            },
            "type": "parcoords"
           }
          ],
          "pie": [
           {
            "automargin": true,
            "type": "pie"
           }
          ],
          "scatter": [
           {
            "fillpattern": {
             "fillmode": "overlay",
             "size": 10,
             "solidity": 0.2
            },
            "type": "scatter"
           }
          ],
          "scatter3d": [
           {
            "line": {
             "colorbar": {
              "outlinewidth": 0,
              "ticks": ""
             }
            },
            "marker": {
             "colorbar": {
              "outlinewidth": 0,
              "ticks": ""
             }
            },
            "type": "scatter3d"
           }
          ],
          "scattercarpet": [
           {
            "marker": {
             "colorbar": {
              "outlinewidth": 0,
              "ticks": ""
             }
            },
            "type": "scattercarpet"
           }
          ],
          "scattergeo": [
           {
            "marker": {
             "colorbar": {
              "outlinewidth": 0,
              "ticks": ""
             }
            },
            "type": "scattergeo"
           }
          ],
          "scattergl": [
           {
            "marker": {
             "colorbar": {
              "outlinewidth": 0,
              "ticks": ""
             }
            },
            "type": "scattergl"
           }
          ],
          "scattermapbox": [
           {
            "marker": {
             "colorbar": {
              "outlinewidth": 0,
              "ticks": ""
             }
            },
            "type": "scattermapbox"
           }
          ],
          "scatterpolar": [
           {
            "marker": {
             "colorbar": {
              "outlinewidth": 0,
              "ticks": ""
             }
            },
            "type": "scatterpolar"
           }
          ],
          "scatterpolargl": [
           {
            "marker": {
             "colorbar": {
              "outlinewidth": 0,
              "ticks": ""
             }
            },
            "type": "scatterpolargl"
           }
          ],
          "scatterternary": [
           {
            "marker": {
             "colorbar": {
              "outlinewidth": 0,
              "ticks": ""
             }
            },
            "type": "scatterternary"
           }
          ],
          "surface": [
           {
            "colorbar": {
             "outlinewidth": 0,
             "ticks": ""
            },
            "colorscale": [
             [
              0,
              "#0d0887"
             ],
             [
              0.1111111111111111,
              "#46039f"
             ],
             [
              0.2222222222222222,
              "#7201a8"
             ],
             [
              0.3333333333333333,
              "#9c179e"
             ],
             [
              0.4444444444444444,
              "#bd3786"
             ],
             [
              0.5555555555555556,
              "#d8576b"
             ],
             [
              0.6666666666666666,
              "#ed7953"
             ],
             [
              0.7777777777777778,
              "#fb9f3a"
             ],
             [
              0.8888888888888888,
              "#fdca26"
             ],
             [
              1,
              "#f0f921"
             ]
            ],
            "type": "surface"
           }
          ],
          "table": [
           {
            "cells": {
             "fill": {
              "color": "#EBF0F8"
             },
             "line": {
              "color": "white"
             }
            },
            "header": {
             "fill": {
              "color": "#C8D4E3"
             },
             "line": {
              "color": "white"
             }
            },
            "type": "table"
           }
          ]
         },
         "layout": {
          "annotationdefaults": {
           "arrowcolor": "#2a3f5f",
           "arrowhead": 0,
           "arrowwidth": 1
          },
          "autotypenumbers": "strict",
          "coloraxis": {
           "colorbar": {
            "outlinewidth": 0,
            "ticks": ""
           }
          },
          "colorscale": {
           "diverging": [
            [
             0,
             "#8e0152"
            ],
            [
             0.1,
             "#c51b7d"
            ],
            [
             0.2,
             "#de77ae"
            ],
            [
             0.3,
             "#f1b6da"
            ],
            [
             0.4,
             "#fde0ef"
            ],
            [
             0.5,
             "#f7f7f7"
            ],
            [
             0.6,
             "#e6f5d0"
            ],
            [
             0.7,
             "#b8e186"
            ],
            [
             0.8,
             "#7fbc41"
            ],
            [
             0.9,
             "#4d9221"
            ],
            [
             1,
             "#276419"
            ]
           ],
           "sequential": [
            [
             0,
             "#0d0887"
            ],
            [
             0.1111111111111111,
             "#46039f"
            ],
            [
             0.2222222222222222,
             "#7201a8"
            ],
            [
             0.3333333333333333,
             "#9c179e"
            ],
            [
             0.4444444444444444,
             "#bd3786"
            ],
            [
             0.5555555555555556,
             "#d8576b"
            ],
            [
             0.6666666666666666,
             "#ed7953"
            ],
            [
             0.7777777777777778,
             "#fb9f3a"
            ],
            [
             0.8888888888888888,
             "#fdca26"
            ],
            [
             1,
             "#f0f921"
            ]
           ],
           "sequentialminus": [
            [
             0,
             "#0d0887"
            ],
            [
             0.1111111111111111,
             "#46039f"
            ],
            [
             0.2222222222222222,
             "#7201a8"
            ],
            [
             0.3333333333333333,
             "#9c179e"
            ],
            [
             0.4444444444444444,
             "#bd3786"
            ],
            [
             0.5555555555555556,
             "#d8576b"
            ],
            [
             0.6666666666666666,
             "#ed7953"
            ],
            [
             0.7777777777777778,
             "#fb9f3a"
            ],
            [
             0.8888888888888888,
             "#fdca26"
            ],
            [
             1,
             "#f0f921"
            ]
           ]
          },
          "colorway": [
           "#636efa",
           "#EF553B",
           "#00cc96",
           "#ab63fa",
           "#FFA15A",
           "#19d3f3",
           "#FF6692",
           "#B6E880",
           "#FF97FF",
           "#FECB52"
          ],
          "font": {
           "color": "#2a3f5f"
          },
          "geo": {
           "bgcolor": "white",
           "lakecolor": "white",
           "landcolor": "#E5ECF6",
           "showlakes": true,
           "showland": true,
           "subunitcolor": "white"
          },
          "hoverlabel": {
           "align": "left"
          },
          "hovermode": "closest",
          "mapbox": {
           "style": "light"
          },
          "paper_bgcolor": "white",
          "plot_bgcolor": "#E5ECF6",
          "polar": {
           "angularaxis": {
            "gridcolor": "white",
            "linecolor": "white",
            "ticks": ""
           },
           "bgcolor": "#E5ECF6",
           "radialaxis": {
            "gridcolor": "white",
            "linecolor": "white",
            "ticks": ""
           }
          },
          "scene": {
           "xaxis": {
            "backgroundcolor": "#E5ECF6",
            "gridcolor": "white",
            "gridwidth": 2,
            "linecolor": "white",
            "showbackground": true,
            "ticks": "",
            "zerolinecolor": "white"
           },
           "yaxis": {
            "backgroundcolor": "#E5ECF6",
            "gridcolor": "white",
            "gridwidth": 2,
            "linecolor": "white",
            "showbackground": true,
            "ticks": "",
            "zerolinecolor": "white"
           },
           "zaxis": {
            "backgroundcolor": "#E5ECF6",
            "gridcolor": "white",
            "gridwidth": 2,
            "linecolor": "white",
            "showbackground": true,
            "ticks": "",
            "zerolinecolor": "white"
           }
          },
          "shapedefaults": {
           "line": {
            "color": "#2a3f5f"
           }
          },
          "ternary": {
           "aaxis": {
            "gridcolor": "white",
            "linecolor": "white",
            "ticks": ""
           },
           "baxis": {
            "gridcolor": "white",
            "linecolor": "white",
            "ticks": ""
           },
           "bgcolor": "#E5ECF6",
           "caxis": {
            "gridcolor": "white",
            "linecolor": "white",
            "ticks": ""
           }
          },
          "title": {
           "x": 0.05
          },
          "xaxis": {
           "automargin": true,
           "gridcolor": "white",
           "linecolor": "white",
           "ticks": "",
           "title": {
            "standoff": 15
           },
           "zerolinecolor": "white",
           "zerolinewidth": 2
          },
          "yaxis": {
           "automargin": true,
           "gridcolor": "white",
           "linecolor": "white",
           "ticks": "",
           "title": {
            "standoff": 15
           },
           "zerolinecolor": "white",
           "zerolinewidth": 2
          }
         }
        }
       }
      },
      "text/html": [
       "<div>                            <div id=\"2f3c1844-4129-4955-b2f1-40f71dd55b62\" class=\"plotly-graph-div\" style=\"height:525px; width:100%;\"></div>            <script type=\"text/javascript\">                require([\"plotly\"], function(Plotly) {                    window.PLOTLYENV=window.PLOTLYENV || {};                                    if (document.getElementById(\"2f3c1844-4129-4955-b2f1-40f71dd55b62\")) {                    Plotly.newPlot(                        \"2f3c1844-4129-4955-b2f1-40f71dd55b62\",                        [{\"hovertemplate\":\"x=%{x}<br>y=%{y}<br>z=%{z}<extra></extra>\",\"legendgroup\":\"\",\"marker\":{\"color\":\"#636efa\",\"symbol\":\"circle\"},\"mode\":\"markers\",\"name\":\"\",\"scene\":\"scene\",\"showlegend\":false,\"x\":[2896.0,6683.0,3012.3333333333335,2917.0,3227.0,4946.333333333333,2917.0,7356.666666666667,4946.333333333333,3168.3333333333335,3035.6666666666665,2819.6666666666665,3039.3333333333335,8649.333333333334,2917.0,2917.0,2953.0,6042.666666666667,3168.3333333333335,2739.3333333333335,2863.3333333333335,3227.0,2917.0,2863.3333333333335,2835.0,2819.6666666666665,2896.0,10138.0,3039.3333333333335,2917.0,3127.3333333333335,6714.333333333333,2819.6666666666665,2802.0,10102.0,2917.0,3231.6666666666665,2861.3333333333335,3059.3333333333335,10133.333333333334,6714.333333333333,2917.0,2917.0,3376.3333333333335,10102.0,3012.3333333333335,2819.6666666666665,2917.0,10418.333333333334,2863.3333333333335,10837.666666666666,2986.3333333333335,12228.0,2819.6666666666665,6580.333333333333,6270.666666666667,3059.6666666666665,3168.3333333333335,3085.0,2863.3333333333335,6580.333333333333,8078.333333333333,2990.0,6714.333333333333,2876.3333333333335,3376.3333333333335,2739.3333333333335,2917.0,2896.0,2864.0,2917.0,6683.0,13930.666666666666,3059.6666666666665,14101.333333333334,2816.3333333333335,10418.333333333334,3168.3333333333335,3168.3333333333335,2917.0,2802.0,3248.3333333333335,2896.0,3204.0,3376.3333333333335,4946.333333333333,3168.3333333333335,2917.0,3127.3333333333335,6857.666666666667,3039.3333333333335,3204.0,2917.0,2917.0,3127.3333333333335,5040.0,3012.3333333333335,2917.0,2990.0,3048.3333333333335],\"y\":[0.000536,0.004226666666666667,0.0004653333333333333,0.0009399999999999999,0.0025123333333333334,0.0008366666666666667,0.0009399999999999999,0.0002866666666666667,0.0008366666666666667,0.002266666666666667,0.0005533333333333333,0.000417,0.000381,0.0012833333333333334,0.0009399999999999999,0.0009399999999999999,0.0008349999999999999,0.00064,0.002266666666666667,0.000517,0.00046266666666666673,0.0025123333333333334,0.00094,0.0004626666666666666,0.0008216666666666667,0.000417,0.000536,0.001385,0.000381,0.0009399999999999999,0.0008123333333333333,0.0005566666666666667,0.000417,0.00038666666666666667,0.007850000000000001,0.0009399999999999999,0.0022626666666666667,0.0005696666666666667,0.0005373333333333333,0.0016899999999999999,0.0005566666666666667,0.0009399999999999999,0.0009399999999999999,0.0006833333333333334,0.007850000000000001,0.0004653333333333333,0.000417,0.0009399999999999999,0.00244,0.00046266666666666673,0.0021766666666666666,0.0046,0.00053,0.000417,0.0006366666666666666,0.0008066666666666666,0.0005566666666666667,0.002266666666666667,0.0007133333333333333,0.00046266666666666673,0.0006366666666666666,0.0028,0.0004573333333333333,0.0005566666666666667,0.000514,0.0006833333333333334,0.000517,0.0009399999999999999,0.000536,0.000404,0.0009399999999999999,0.004226666666666667,0.00046000000000000007,0.0005566666666666667,0.0009866666666666667,0.00035699999999999995,0.00244,0.002266666666666667,0.002266666666666667,0.0009399999999999999,0.00038666666666666667,0.004063333333333333,0.000536,0.0008619999999999999,0.0006833333333333334,0.0008366666666666667,0.002266666666666667,0.0009399999999999999,0.0008123333333333333,0.0007633333333333333,0.000381,0.000862,0.0009399999999999999,0.0009399999999999999,0.0008123333333333333,0.0005700000000000001,0.0004653333333333333,0.0009399999999999999,0.0004573333333333333,0.00031366666666666663],\"z\":[-21.787408560295557,-18.751610420766042,-17.62074092288208,-19.98039160629762,-19.133330213322886,-20.92451134774165,-21.810464714396836,-16.945326177978263,-19.575640488892827,-18.510566139598634,-20.848703481696745,-19.89414189611245,-19.689285614158464,-19.471171760845984,-20.32516830124386,-18.274471865346623,-14.651883494793385,-19.7484395783864,-17.077989378153525,-18.37626675913575,-20.639889025761466,-19.61955054765193,-17.96310490250902,-17.78977360245346,-18.544642565224024,-19.095154402554726,-18.120220161712812,-18.079938657539177,-20.06517477988104,-18.70351319417221,-18.137992985187246,-21.01305269298966,-18.344840010907426,-19.364440445460616,-18.41176283370855,-19.63259150253365,-19.979331393642898,-19.00358799734957,-16.61970519646538,-20.772766673124547,-18.911033200291396,-17.98427522939093,-20.567056651320794,-19.806288860258928,-19.67938498314651,-20.421481848365016,-19.971642049115907,-18.776114209063113,-18.947348896581396,-19.040354809695305,-20.560066993247325,-18.372604588305112,-19.04974306722417,-19.084398371360734,-17.471558891250496,-19.7178710933525,-17.498247374916648,-19.617239963674272,-19.612665407782025,-18.670892844735658,-17.428531490166428,-18.804366387930493,-21.088175681184303,-16.743476560092745,-18.50475214547129,-21.99490448291946,-17.47707277571364,-18.607739536033293,-18.14408280471596,-19.572966869001668,-18.577936521767448,-18.039939515613405,-18.871768346201996,-18.79656571542312,-19.29067055564246,-18.873781329554266,-19.649503581896354,-18.78317776819819,-18.297514745468806,-19.178718120291432,-20.66553559239755,-19.92657475522137,-20.7266717380106,-18.63530324811262,-18.97542490785865,-17.808894153506063,-17.857848911598886,-20.28362901881155,-19.06729651165714,-18.992454640125562,-19.744012680557947,-20.244550996671347,-19.61741331593559,-19.848155940592726,-19.719154848982683,-19.060746583764416,-19.917512757792416,-19.688111570855032,-20.299919935705685,-19.22790470227682],\"type\":\"scatter3d\"}],                        {\"template\":{\"data\":{\"histogram2dcontour\":[{\"type\":\"histogram2dcontour\",\"colorbar\":{\"outlinewidth\":0,\"ticks\":\"\"},\"colorscale\":[[0.0,\"#0d0887\"],[0.1111111111111111,\"#46039f\"],[0.2222222222222222,\"#7201a8\"],[0.3333333333333333,\"#9c179e\"],[0.4444444444444444,\"#bd3786\"],[0.5555555555555556,\"#d8576b\"],[0.6666666666666666,\"#ed7953\"],[0.7777777777777778,\"#fb9f3a\"],[0.8888888888888888,\"#fdca26\"],[1.0,\"#f0f921\"]]}],\"choropleth\":[{\"type\":\"choropleth\",\"colorbar\":{\"outlinewidth\":0,\"ticks\":\"\"}}],\"histogram2d\":[{\"type\":\"histogram2d\",\"colorbar\":{\"outlinewidth\":0,\"ticks\":\"\"},\"colorscale\":[[0.0,\"#0d0887\"],[0.1111111111111111,\"#46039f\"],[0.2222222222222222,\"#7201a8\"],[0.3333333333333333,\"#9c179e\"],[0.4444444444444444,\"#bd3786\"],[0.5555555555555556,\"#d8576b\"],[0.6666666666666666,\"#ed7953\"],[0.7777777777777778,\"#fb9f3a\"],[0.8888888888888888,\"#fdca26\"],[1.0,\"#f0f921\"]]}],\"heatmap\":[{\"type\":\"heatmap\",\"colorbar\":{\"outlinewidth\":0,\"ticks\":\"\"},\"colorscale\":[[0.0,\"#0d0887\"],[0.1111111111111111,\"#46039f\"],[0.2222222222222222,\"#7201a8\"],[0.3333333333333333,\"#9c179e\"],[0.4444444444444444,\"#bd3786\"],[0.5555555555555556,\"#d8576b\"],[0.6666666666666666,\"#ed7953\"],[0.7777777777777778,\"#fb9f3a\"],[0.8888888888888888,\"#fdca26\"],[1.0,\"#f0f921\"]]}],\"heatmapgl\":[{\"type\":\"heatmapgl\",\"colorbar\":{\"outlinewidth\":0,\"ticks\":\"\"},\"colorscale\":[[0.0,\"#0d0887\"],[0.1111111111111111,\"#46039f\"],[0.2222222222222222,\"#7201a8\"],[0.3333333333333333,\"#9c179e\"],[0.4444444444444444,\"#bd3786\"],[0.5555555555555556,\"#d8576b\"],[0.6666666666666666,\"#ed7953\"],[0.7777777777777778,\"#fb9f3a\"],[0.8888888888888888,\"#fdca26\"],[1.0,\"#f0f921\"]]}],\"contourcarpet\":[{\"type\":\"contourcarpet\",\"colorbar\":{\"outlinewidth\":0,\"ticks\":\"\"}}],\"contour\":[{\"type\":\"contour\",\"colorbar\":{\"outlinewidth\":0,\"ticks\":\"\"},\"colorscale\":[[0.0,\"#0d0887\"],[0.1111111111111111,\"#46039f\"],[0.2222222222222222,\"#7201a8\"],[0.3333333333333333,\"#9c179e\"],[0.4444444444444444,\"#bd3786\"],[0.5555555555555556,\"#d8576b\"],[0.6666666666666666,\"#ed7953\"],[0.7777777777777778,\"#fb9f3a\"],[0.8888888888888888,\"#fdca26\"],[1.0,\"#f0f921\"]]}],\"surface\":[{\"type\":\"surface\",\"colorbar\":{\"outlinewidth\":0,\"ticks\":\"\"},\"colorscale\":[[0.0,\"#0d0887\"],[0.1111111111111111,\"#46039f\"],[0.2222222222222222,\"#7201a8\"],[0.3333333333333333,\"#9c179e\"],[0.4444444444444444,\"#bd3786\"],[0.5555555555555556,\"#d8576b\"],[0.6666666666666666,\"#ed7953\"],[0.7777777777777778,\"#fb9f3a\"],[0.8888888888888888,\"#fdca26\"],[1.0,\"#f0f921\"]]}],\"mesh3d\":[{\"type\":\"mesh3d\",\"colorbar\":{\"outlinewidth\":0,\"ticks\":\"\"}}],\"scatter\":[{\"fillpattern\":{\"fillmode\":\"overlay\",\"size\":10,\"solidity\":0.2},\"type\":\"scatter\"}],\"parcoords\":[{\"type\":\"parcoords\",\"line\":{\"colorbar\":{\"outlinewidth\":0,\"ticks\":\"\"}}}],\"scatterpolargl\":[{\"type\":\"scatterpolargl\",\"marker\":{\"colorbar\":{\"outlinewidth\":0,\"ticks\":\"\"}}}],\"bar\":[{\"error_x\":{\"color\":\"#2a3f5f\"},\"error_y\":{\"color\":\"#2a3f5f\"},\"marker\":{\"line\":{\"color\":\"#E5ECF6\",\"width\":0.5},\"pattern\":{\"fillmode\":\"overlay\",\"size\":10,\"solidity\":0.2}},\"type\":\"bar\"}],\"scattergeo\":[{\"type\":\"scattergeo\",\"marker\":{\"colorbar\":{\"outlinewidth\":0,\"ticks\":\"\"}}}],\"scatterpolar\":[{\"type\":\"scatterpolar\",\"marker\":{\"colorbar\":{\"outlinewidth\":0,\"ticks\":\"\"}}}],\"histogram\":[{\"marker\":{\"pattern\":{\"fillmode\":\"overlay\",\"size\":10,\"solidity\":0.2}},\"type\":\"histogram\"}],\"scattergl\":[{\"type\":\"scattergl\",\"marker\":{\"colorbar\":{\"outlinewidth\":0,\"ticks\":\"\"}}}],\"scatter3d\":[{\"type\":\"scatter3d\",\"line\":{\"colorbar\":{\"outlinewidth\":0,\"ticks\":\"\"}},\"marker\":{\"colorbar\":{\"outlinewidth\":0,\"ticks\":\"\"}}}],\"scattermapbox\":[{\"type\":\"scattermapbox\",\"marker\":{\"colorbar\":{\"outlinewidth\":0,\"ticks\":\"\"}}}],\"scatterternary\":[{\"type\":\"scatterternary\",\"marker\":{\"colorbar\":{\"outlinewidth\":0,\"ticks\":\"\"}}}],\"scattercarpet\":[{\"type\":\"scattercarpet\",\"marker\":{\"colorbar\":{\"outlinewidth\":0,\"ticks\":\"\"}}}],\"carpet\":[{\"aaxis\":{\"endlinecolor\":\"#2a3f5f\",\"gridcolor\":\"white\",\"linecolor\":\"white\",\"minorgridcolor\":\"white\",\"startlinecolor\":\"#2a3f5f\"},\"baxis\":{\"endlinecolor\":\"#2a3f5f\",\"gridcolor\":\"white\",\"linecolor\":\"white\",\"minorgridcolor\":\"white\",\"startlinecolor\":\"#2a3f5f\"},\"type\":\"carpet\"}],\"table\":[{\"cells\":{\"fill\":{\"color\":\"#EBF0F8\"},\"line\":{\"color\":\"white\"}},\"header\":{\"fill\":{\"color\":\"#C8D4E3\"},\"line\":{\"color\":\"white\"}},\"type\":\"table\"}],\"barpolar\":[{\"marker\":{\"line\":{\"color\":\"#E5ECF6\",\"width\":0.5},\"pattern\":{\"fillmode\":\"overlay\",\"size\":10,\"solidity\":0.2}},\"type\":\"barpolar\"}],\"pie\":[{\"automargin\":true,\"type\":\"pie\"}]},\"layout\":{\"autotypenumbers\":\"strict\",\"colorway\":[\"#636efa\",\"#EF553B\",\"#00cc96\",\"#ab63fa\",\"#FFA15A\",\"#19d3f3\",\"#FF6692\",\"#B6E880\",\"#FF97FF\",\"#FECB52\"],\"font\":{\"color\":\"#2a3f5f\"},\"hovermode\":\"closest\",\"hoverlabel\":{\"align\":\"left\"},\"paper_bgcolor\":\"white\",\"plot_bgcolor\":\"#E5ECF6\",\"polar\":{\"bgcolor\":\"#E5ECF6\",\"angularaxis\":{\"gridcolor\":\"white\",\"linecolor\":\"white\",\"ticks\":\"\"},\"radialaxis\":{\"gridcolor\":\"white\",\"linecolor\":\"white\",\"ticks\":\"\"}},\"ternary\":{\"bgcolor\":\"#E5ECF6\",\"aaxis\":{\"gridcolor\":\"white\",\"linecolor\":\"white\",\"ticks\":\"\"},\"baxis\":{\"gridcolor\":\"white\",\"linecolor\":\"white\",\"ticks\":\"\"},\"caxis\":{\"gridcolor\":\"white\",\"linecolor\":\"white\",\"ticks\":\"\"}},\"coloraxis\":{\"colorbar\":{\"outlinewidth\":0,\"ticks\":\"\"}},\"colorscale\":{\"sequential\":[[0.0,\"#0d0887\"],[0.1111111111111111,\"#46039f\"],[0.2222222222222222,\"#7201a8\"],[0.3333333333333333,\"#9c179e\"],[0.4444444444444444,\"#bd3786\"],[0.5555555555555556,\"#d8576b\"],[0.6666666666666666,\"#ed7953\"],[0.7777777777777778,\"#fb9f3a\"],[0.8888888888888888,\"#fdca26\"],[1.0,\"#f0f921\"]],\"sequentialminus\":[[0.0,\"#0d0887\"],[0.1111111111111111,\"#46039f\"],[0.2222222222222222,\"#7201a8\"],[0.3333333333333333,\"#9c179e\"],[0.4444444444444444,\"#bd3786\"],[0.5555555555555556,\"#d8576b\"],[0.6666666666666666,\"#ed7953\"],[0.7777777777777778,\"#fb9f3a\"],[0.8888888888888888,\"#fdca26\"],[1.0,\"#f0f921\"]],\"diverging\":[[0,\"#8e0152\"],[0.1,\"#c51b7d\"],[0.2,\"#de77ae\"],[0.3,\"#f1b6da\"],[0.4,\"#fde0ef\"],[0.5,\"#f7f7f7\"],[0.6,\"#e6f5d0\"],[0.7,\"#b8e186\"],[0.8,\"#7fbc41\"],[0.9,\"#4d9221\"],[1,\"#276419\"]]},\"xaxis\":{\"gridcolor\":\"white\",\"linecolor\":\"white\",\"ticks\":\"\",\"title\":{\"standoff\":15},\"zerolinecolor\":\"white\",\"automargin\":true,\"zerolinewidth\":2},\"yaxis\":{\"gridcolor\":\"white\",\"linecolor\":\"white\",\"ticks\":\"\",\"title\":{\"standoff\":15},\"zerolinecolor\":\"white\",\"automargin\":true,\"zerolinewidth\":2},\"scene\":{\"xaxis\":{\"backgroundcolor\":\"#E5ECF6\",\"gridcolor\":\"white\",\"linecolor\":\"white\",\"showbackground\":true,\"ticks\":\"\",\"zerolinecolor\":\"white\",\"gridwidth\":2},\"yaxis\":{\"backgroundcolor\":\"#E5ECF6\",\"gridcolor\":\"white\",\"linecolor\":\"white\",\"showbackground\":true,\"ticks\":\"\",\"zerolinecolor\":\"white\",\"gridwidth\":2},\"zaxis\":{\"backgroundcolor\":\"#E5ECF6\",\"gridcolor\":\"white\",\"linecolor\":\"white\",\"showbackground\":true,\"ticks\":\"\",\"zerolinecolor\":\"white\",\"gridwidth\":2}},\"shapedefaults\":{\"line\":{\"color\":\"#2a3f5f\"}},\"annotationdefaults\":{\"arrowcolor\":\"#2a3f5f\",\"arrowhead\":0,\"arrowwidth\":1},\"geo\":{\"bgcolor\":\"white\",\"landcolor\":\"#E5ECF6\",\"subunitcolor\":\"white\",\"showland\":true,\"showlakes\":true,\"lakecolor\":\"white\"},\"title\":{\"x\":0.05},\"mapbox\":{\"style\":\"light\"}}},\"scene\":{\"domain\":{\"x\":[0.0,1.0],\"y\":[0.0,1.0]},\"xaxis\":{\"title\":{\"text\":\"x\"}},\"yaxis\":{\"title\":{\"text\":\"y\"}},\"zaxis\":{\"title\":{\"text\":\"z\"}}},\"legend\":{\"tracegroupgap\":0},\"margin\":{\"t\":60}},                        {\"responsive\": true}                    ).then(function(){\n",
       "                            \n",
       "var gd = document.getElementById('2f3c1844-4129-4955-b2f1-40f71dd55b62');\n",
       "var x = new MutationObserver(function (mutations, observer) {{\n",
       "        var display = window.getComputedStyle(gd).display;\n",
       "        if (!display || display === 'none') {{\n",
       "            console.log([gd, 'removed!']);\n",
       "            Plotly.purge(gd);\n",
       "            observer.disconnect();\n",
       "        }}\n",
       "}});\n",
       "\n",
       "// Listen for the removal of the full notebook cells\n",
       "var notebookContainer = gd.closest('#notebook-container');\n",
       "if (notebookContainer) {{\n",
       "    x.observe(notebookContainer, {childList: true});\n",
       "}}\n",
       "\n",
       "// Listen for the clearing of the current output cell\n",
       "var outputEl = gd.closest('.output');\n",
       "if (outputEl) {{\n",
       "    x.observe(outputEl, {childList: true});\n",
       "}}\n",
       "\n",
       "                        })                };                });            </script>        </div>"
      ]
     },
     "metadata": {},
     "output_type": "display_data"
    }
   ],
   "source": [
    "import plotly.express as px\n",
    "import matplotlib.pyplot as plt\n",
    "fig = px.scatter_3d(x=dfm['Temperature (K)'][:100], y=dfm['Luminosity(L/Lo)'][:100], z= forGraphph[:100])\n",
    "fig.show()"
   ]
  },
  {
   "cell_type": "code",
   "execution_count": null,
   "id": "781aec38",
   "metadata": {},
   "outputs": [],
   "source": []
  },
  {
   "cell_type": "code",
   "execution_count": null,
   "id": "d4073046",
   "metadata": {},
   "outputs": [],
   "source": []
  }
 ],
 "metadata": {
  "kernelspec": {
   "display_name": "Python 3 (ipykernel)",
   "language": "python",
   "name": "python3"
  },
  "language_info": {
   "codemirror_mode": {
    "name": "ipython",
    "version": 3
   },
   "file_extension": ".py",
   "mimetype": "text/x-python",
   "name": "python",
   "nbconvert_exporter": "python",
   "pygments_lexer": "ipython3",
   "version": "3.10.9"
  }
 },
 "nbformat": 4,
 "nbformat_minor": 5
}
