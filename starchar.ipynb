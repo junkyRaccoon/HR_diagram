{
 "cells": [
  {
   "cell_type": "code",
   "execution_count": 21,
   "id": "89445ed5",
   "metadata": {},
   "outputs": [],
   "source": [
    "import pandas as pd\n",
    "import matplotlib.pyplot as plt\n",
    "import numpy as np\n",
    "from collections import Counter\n",
    "from sklearn.model_selection import train_test_split\n",
    "import math\n",
    "import seaborn as sns"
   ]
  },
  {
   "cell_type": "code",
   "execution_count": 254,
   "id": "3f6e1f17",
   "metadata": {},
   "outputs": [
    {
     "ename": "AttributeError",
     "evalue": "'numpy.ndarray' object has no attribute 'join'",
     "output_type": "error",
     "traceback": [
      "\u001b[1;31m---------------------------------------------------------------------------\u001b[0m",
      "\u001b[1;31mAttributeError\u001b[0m                            Traceback (most recent call last)",
      "Cell \u001b[1;32mIn[254], line 12\u001b[0m\n\u001b[0;32m     10\u001b[0m wa[wa \u001b[38;5;241m==\u001b[39m \u001b[38;5;124m'\u001b[39m\u001b[38;5;124mM\u001b[39m\u001b[38;5;124m'\u001b[39m]\u001b[38;5;241m=\u001b[39m \u001b[38;5;241m1\u001b[39m\n\u001b[0;32m     11\u001b[0m wa\u001b[38;5;241m.\u001b[39mtolist\n\u001b[1;32m---> 12\u001b[0m \u001b[43mwa\u001b[49m\u001b[38;5;241;43m.\u001b[39;49m\u001b[43mjoin\u001b[49m(test)\n",
      "\u001b[1;31mAttributeError\u001b[0m: 'numpy.ndarray' object has no attribute 'join'"
     ]
    }
   ],
   "source": [
    "df = pd.read_csv(r\"starman.csv\")\n",
    "da = df[\"Absolute magnitude(Mv)\"].isnull()\n",
    "df = df.fillna(0)\n",
    "test = []\n",
    "#df = df.drop(\"Star color\",axis = 1)\n",
    "#df = df.drop(\"Spectral Class\",axis = 1)\n",
    "\n",
    "wa = df[\"Spectral Class\"].tolist()\n",
    "wa = np.array([wa])\n",
    "wa[wa == 'M']= 1\n",
    "\n",
    "\n",
    "#df['Spectral Class'] = wa"
   ]
  },
  {
   "cell_type": "code",
   "execution_count": 157,
   "id": "07cf9302",
   "metadata": {},
   "outputs": [
    {
     "data": {
      "text/plain": [
       "array([0, 1, 2, 3, 4, 5], dtype=int64)"
      ]
     },
     "execution_count": 157,
     "metadata": {},
     "output_type": "execute_result"
    }
   ],
   "source": [
    "X_train, X_valid, y_train, y_valid = train_test_split(df.drop(\"Star type\", axis=1), df[\"Star type\"], test_size=0.2)\n",
    "df[\"Star type\"].unique()"
   ]
  },
  {
   "cell_type": "code",
   "execution_count": 88,
   "id": "e8a6bca4",
   "metadata": {},
   "outputs": [],
   "source": [
    "class KnnClassifier:\n",
    "    def __init__(self, k=3):\n",
    "        self.k = k\n",
    "    \n",
    "    def fit(self, X_train, y_train):\n",
    "        self.X_train = X_train.values\n",
    "        self.y_train = y_train.values\n",
    "        return self\n",
    "        \n",
    "    def predict(self, X):\n",
    "        predicts = []\n",
    "        X_train = self.X_train\n",
    "        for sample in X.iterrows():\n",
    "            sample = sample[1].values\n",
    "            dists = (((self.X_train - sample)**2).sum(axis=1))**0.5\n",
    "            dists = dists.tolist()\n",
    "            idxes = []\n",
    "            for _ in range(self.k):\n",
    "                idx = np.argmin(dists)\n",
    "                idxes.append(idx)\n",
    "                del dists[idx]\n",
    "            count = Counter(self.y_train[idxes].tolist())\n",
    "            p = max(count, key=count.get)\n",
    "            predicts.append(p)\n",
    "        return np.array(predicts)"
   ]
  },
  {
   "cell_type": "code",
   "execution_count": 115,
   "id": "2867b80e",
   "metadata": {},
   "outputs": [
    {
     "data": {
      "text/plain": [
       "0.6875"
      ]
     },
     "execution_count": 115,
     "metadata": {},
     "output_type": "execute_result"
    }
   ],
   "source": [
    "clf = KnnClassifier(k=3).fit(X_train, y_train)\n",
    "(clf.predict(X_valid) == y_valid).mean()"
   ]
  },
  {
   "cell_type": "code",
   "execution_count": null,
   "id": "e043dbe2",
   "metadata": {},
   "outputs": [],
   "source": []
  },
  {
   "cell_type": "code",
   "execution_count": null,
   "id": "074676ec",
   "metadata": {},
   "outputs": [],
   "source": []
  }
 ],
 "metadata": {
  "kernelspec": {
   "display_name": "Python 3 (ipykernel)",
   "language": "python",
   "name": "python3"
  },
  "language_info": {
   "codemirror_mode": {
    "name": "ipython",
    "version": 3
   },
   "file_extension": ".py",
   "mimetype": "text/x-python",
   "name": "python",
   "nbconvert_exporter": "python",
   "pygments_lexer": "ipython3",
   "version": "3.10.9"
  }
 },
 "nbformat": 4,
 "nbformat_minor": 5
}
